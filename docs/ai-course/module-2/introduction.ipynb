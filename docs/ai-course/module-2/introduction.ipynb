{
 "cells": [
  {
   "cell_type": "markdown",
   "metadata": {},
   "source": [
    "# Introduction\n",
    "\n",
    "**Prompt**: a \"prompt\" is the input text given to the model to generate a response. It is the question, command, or instruction that you provide to guide the model's output.\n",
    "\n",
    "## Elements of a Prompt\n",
    "\n",
    "* Instruction: the main text of the prompt that tells the model what to do.\n",
    "* Context: External information that the model should consider to generate a more relevant and accurate response.\n",
    "* Input: The question or input that the model must answer or respond to.\n",
    "* Response Format: The structure or format that the model must adhere to when generating a response. Typically format is provided as a json object or a pydantic object.\n",
    "\n",
    "source: [Prompt Engineering Guide](https://www.promptingguide.ai/introduction/elements)"
   ]
  },
  {
   "cell_type": "code",
   "execution_count": 1,
   "metadata": {},
   "outputs": [
    {
     "name": "stdout",
     "output_type": "stream",
     "text": [
      "\n",
      "You are a helpful assistant that provides accurate and concise answers to questions based on current news articles.\n",
      "\n",
      "### Context:\n",
      "Yesterday (on 12/01/2011), the stock market crashed due to the ongoing trade war between the US and China. The Dow Jones Industrial Average dropped by 800 points, the worst single-day drop of the year. Investors are concerned about the impact of the trade war on the global economy. The US President has announced new tariffs on Chinese goods, and China has responded with retaliatory measures. The trade tensions have escalated, leading to fears of a prolonged economic downturn.\n",
      "\n",
      "### Input:\n",
      "What caused the stock market crash yesterday?\n",
      "\n",
      "### Response Format:\n",
      "{'response': '', 'date': ''}\n",
      "\n"
     ]
    }
   ],
   "source": [
    "prompt_template = \"\"\"\n",
    "You are a helpful assistant that provides accurate and concise answers to questions based on current news articles.\n",
    "\n",
    "### Context:\n",
    "{context}\n",
    "\n",
    "### Input:\n",
    "{input}\n",
    "\n",
    "### Response Format:\n",
    "{response_format}\n",
    "\"\"\"\n",
    "\n",
    "context = \"Yesterday (on 12/01/2011), the stock market crashed due to the ongoing trade war between the US and China. The Dow Jones Industrial Average dropped by 800 points, the worst single-day drop of the year. Investors are concerned about the impact of the trade war on the global economy. The US President has announced new tariffs on Chinese goods, and China has responded with retaliatory measures. The trade tensions have escalated, leading to fears of a prolonged economic downturn.\"\n",
    "question = \"What caused the stock market crash yesterday?\"\n",
    "\n",
    "response_format = {\n",
    "    \"response\": \"\",\n",
    "    \"date\": \"\",\n",
    "}\n",
    "\n",
    "prompt = prompt_template.format(context=context, input=question, response_format=response_format)\n",
    "print(prompt)\n"
   ]
  },
  {
   "cell_type": "code",
   "execution_count": null,
   "metadata": {},
   "outputs": [],
   "source": [
    "import openai"
   ]
  }
 ],
 "metadata": {
  "kernelspec": {
   "display_name": ".venv",
   "language": "python",
   "name": "python3"
  },
  "language_info": {
   "codemirror_mode": {
    "name": "ipython",
    "version": 3
   },
   "file_extension": ".py",
   "mimetype": "text/x-python",
   "name": "python",
   "nbconvert_exporter": "python",
   "pygments_lexer": "ipython3",
   "version": "3.11.1"
  }
 },
 "nbformat": 4,
 "nbformat_minor": 2
}
