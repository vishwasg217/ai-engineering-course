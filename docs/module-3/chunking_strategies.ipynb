{
 "cells": [
  {
   "cell_type": "markdown",
   "metadata": {},
   "source": [
    "# Chunking Strategies\n",
    "\n",
    "It is important to chunk the text data into smaller parts before converting them into vector embeddings and storing it in a vector database. It allows us to retrieve the exact content that is relevant to the query, as having irrelevant content in the context leads to unnecessary of tokens and generation of irrelevant response.\n",
    "\n",
    "In order to chunk our text we will be using the langchain text splitters library. This library provides a variety of text splitters that can be used to split the text into smaller chunks.\n",
    "\n",
    "## Recursive chunking\n",
    "Here, the text is splitted on `[\"\\n\\n\", \"\\n\", \" \", \"\"]` characters until the chunk size is small enough.\n",
    "\n",
    "Parameters:\n",
    "1. `seperators`: List of characters to split the text on. The default is `[\"\\n\\n\", \"\\n\", \" \", \"\"]`.\n",
    "2. `chunk_size`: the max size of the chunk.\n",
    "3. `chunk_overlap`: length of the overlapping text between the chunks."
   ]
  },
  {
   "cell_type": "code",
   "execution_count": 1,
   "metadata": {},
   "outputs": [
    {
     "data": {
      "text/plain": [
       "['TXT test file\\nPurpose: Provide example of this file type\\nDocument file type: TXT\\nVersion: 1.0',\n",
       " 'Remark:',\n",
       " 'Example content:',\n",
       " 'The names \"John Doe\" for males, \"Jane Doe\" or \"Jane Roe\" for females, or \"Jonnie Doe\" and \"Janie',\n",
       " '\"Janie Doe\" for children, or just \"Doe\" non-gender-specifically are used as placeholder names for a',\n",
       " 'for a party whose true identity is unknown or must be withheld in a legal action, case, or',\n",
       " 'case, or discussion. The names are also used to refer to acorpse or hospital patient whose identity',\n",
       " 'identity is unknown. This practice is widely used in the United States and Canada, but is rarely',\n",
       " 'is rarely used in other English-speaking countries including the United Kingdom itself, from where',\n",
       " 'where the use of \"John Doe\" in a legal context originates. The names Joe Bloggs or John Smith are',\n",
       " 'Smith are used in the UK instead, as well as in Australia and New Zealand.',\n",
       " 'John Doe is sometimes used to refer to a typical male in other contexts as well, in a similar',\n",
       " 'a similar manner to John Q. Public, known in Great Britain as Joe Public, John Smith or Joe Bloggs.',\n",
       " 'Bloggs. For example, the first name listed on a form is often John Doe, along with a fictional',\n",
       " 'fictional address or other fictional information to provide an example of how to fill in the form.',\n",
       " 'the form. The name is also used frequently in popular culture, for example in the Frank Capra film',\n",
       " 'film Meet John Doe. John Doe was also the name of a 2002 American television series.',\n",
       " 'Similarly, a child or baby whose identity is unknown may be referred to as Baby Doe. A notorious',\n",
       " 'notorious murder case in Kansas City, Missouri, referred to the baby victim as Precious Doe. Other',\n",
       " 'Other unidentified female murder victims are Cali Doe and Princess Doe. Additional persons may be',\n",
       " 'may be called James Doe, Judy Doe, etc. However, to avoid possible confusion, if two anonymous or',\n",
       " 'or unknown parties are cited in a specific case or action, the surnames Doe and Roe may be used',\n",
       " 'be used simultaneously; for example, \"John Doe v. Jane Roe\". If several anonymous parties are',\n",
       " 'are referenced, they may simply be labelled John Doe #1, John Doe #2, etc. (the U.S. Operation',\n",
       " 'Operation Delego cited 21 (numbered) \"John Doe\"s) or labelled with other variants of Doe / Roe /',\n",
       " '/ Roe / Poe / etc. Other early alternatives such as John Stiles and Richard Miles are now rarely',\n",
       " 'rarely used, and Mary Major has been used in some American federal cases.',\n",
       " 'File created by https://www.online-convert.com',\n",
       " 'More example files: https://www.online-convert.com/file-type',\n",
       " 'Text of Example content: Wikipedia (https://en.wikipedia.org/wiki/John_Doe)',\n",
       " 'License: Attribution-ShareAlike 4.0 (https://creativecommons.org/licenses/by-sa/4.0/)',\n",
       " 'Feel free to use and share the file according to the license above.']"
      ]
     },
     "execution_count": 1,
     "metadata": {},
     "output_type": "execute_result"
    }
   ],
   "source": [
    "from langchain_text_splitters import RecursiveCharacterTextSplitter\n",
    "\n",
    "with open(\"./sample.txt\", \"r\") as f:\n",
    "    text = f.read()\n",
    "\n",
    "text_splitter = RecursiveCharacterTextSplitter(\n",
    "    chunk_size=100,\n",
    "    chunk_overlap=10,\n",
    ")\n",
    "\n",
    "chunks = text_splitter.split_text(text)\n",
    "chunks"
   ]
  },
  {
   "cell_type": "markdown",
   "metadata": {},
   "source": [
    "### HTML based chunking\n",
    "While recursive chunking might be good enough for generic cases, it might not be good enough for cases where the text data does has a semantic structure to it. With the use of recursive chunking there is no guarantee that each chunk is \"context aware and not split in between a piec of information. HTML based chunking makes sure that no chunk has no incomplete information by using the HTML tags as the seperators rather than using escape sequences."
   ]
  },
  {
   "cell_type": "code",
   "execution_count": 2,
   "metadata": {},
   "outputs": [
    {
     "data": {
      "text/plain": [
       "[Document(metadata={'Header 1': 'The Evolution of Technology in the 21st Century'}, page_content='Introduction'),\n",
       " Document(metadata={'Header 1': 'The Evolution of Technology in the 21st Century', 'Header 2': 'Introduction'}, page_content='Technology has grown at an unprecedented rate in the 21st century, transforming every facet of human life. From the ways we communicate to how we work, learn, and entertain ourselves, technological advancements have redefined the modern world.'),\n",
       " Document(metadata={'Header 1': 'The Evolution of Technology in the 21st Century'}, page_content='The Rise of the Internet and Mobile Technology'),\n",
       " Document(metadata={'Header 1': 'The Evolution of Technology in the 21st Century', 'Header 2': 'The Rise of the Internet and Mobile Technology'}, page_content='The early 2000s witnessed the rise of personal computers and the internet, which revolutionized the way people accessed information. Before this period, gathering information meant visiting libraries, reading books, or consulting experts in person.  \\nAs internet infrastructure improved, mobile technology followed. The introduction of smartphones in the late 2000s, particularly with the release of the iPhone in 2007, marked a turning point.'),\n",
       " Document(metadata={'Header 1': 'The Evolution of Technology in the 21st Century'}, page_content='Cloud Computing and AI'),\n",
       " Document(metadata={'Header 1': 'The Evolution of Technology in the 21st Century', 'Header 3': 'Cloud Computing and AI'}, page_content='One of the most significant advancements of this era has been the growth of cloud computing. Companies no longer needed to invest in expensive hardware to store data. Instead, cloud services like Amazon Web Services (AWS) and Microsoft Azure allowed businesses to store and process data remotely.'),\n",
       " Document(metadata={'Header 1': 'The Evolution of Technology in the 21st Century'}, page_content='Automation and its Challenges'),\n",
       " Document(metadata={'Header 1': 'The Evolution of Technology in the 21st Century', 'Header 3': 'Automation and its Challenges'}, page_content='Automation is another area that has seen rapid growth. Robotics and AI have been integrated into manufacturing, agriculture, and even healthcare.  \\nHowever, this rapid advancement has not come without challenges, such as job displacement and privacy concerns.'),\n",
       " Document(metadata={'Header 1': 'The Evolution of Technology in the 21st Century', 'Header 2': 'Conclusion'}, page_content='In conclusion, the 21st century has been marked by rapid technological advancements that have reshaped society in countless ways. Balancing innovation with ethical considerations will be key to ensuring a future where technology benefits all of humanity.')]"
      ]
     },
     "execution_count": 2,
     "metadata": {},
     "output_type": "execute_result"
    }
   ],
   "source": [
    "from langchain_text_splitters import HTMLHeaderTextSplitter\n",
    "\n",
    "with open(\"./sample.html\", \"r\") as f:\n",
    "    text = f.read()\n",
    "\n",
    "\n",
    "headers_to_split_on = [\n",
    "    (\"h1\", \"Header 1\"),\n",
    "    (\"h2\", \"Header 2\"),\n",
    "    (\"h3\", \"Header 3\"),\n",
    "]\n",
    "\n",
    "html_splitter = HTMLHeaderTextSplitter(headers_to_split_on=headers_to_split_on)\n",
    "chunks = html_splitter.split_text(text)\n",
    "chunks"
   ]
  },
  {
   "cell_type": "markdown",
   "metadata": {},
   "source": [
    "By setting `return_each_element` to `True`, the text splitter splits and returns every element in the HTML DOM with it's associated header, instead just splitting upto the last header given.\n",
    "\n",
    "Arguments like `chunk_size` and `chunk_overlap` is present in the HTML splitter as well."
   ]
  },
  {
   "cell_type": "code",
   "execution_count": 3,
   "metadata": {},
   "outputs": [
    {
     "data": {
      "text/plain": [
       "[Document(metadata={'Header 1': 'The Evolution of Technology in the 21st Century'}, page_content='Introduction'),\n",
       " Document(metadata={'Header 1': 'The Evolution of Technology in the 21st Century', 'Header 2': 'Introduction'}, page_content='Technology has grown at an unprecedented rate in the 21st century, transforming every facet of human life. From the ways we communicate to how we work, learn, and entertain ourselves, technological advancements have redefined the modern world.'),\n",
       " Document(metadata={'Header 1': 'The Evolution of Technology in the 21st Century'}, page_content='The Rise of the Internet and Mobile Technology'),\n",
       " Document(metadata={'Header 1': 'The Evolution of Technology in the 21st Century', 'Header 2': 'The Rise of the Internet and Mobile Technology'}, page_content='The early 2000s witnessed the rise of personal computers and the internet, which revolutionized the way people accessed information. Before this period, gathering information meant visiting libraries, reading books, or consulting experts in person.'),\n",
       " Document(metadata={'Header 1': 'The Evolution of Technology in the 21st Century', 'Header 2': 'The Rise of the Internet and Mobile Technology'}, page_content='As internet infrastructure improved, mobile technology followed. The introduction of smartphones in the late 2000s, particularly with the release of the iPhone in 2007, marked a turning point.'),\n",
       " Document(metadata={'Header 1': 'The Evolution of Technology in the 21st Century'}, page_content='Cloud Computing and AI'),\n",
       " Document(metadata={'Header 1': 'The Evolution of Technology in the 21st Century', 'Header 3': 'Cloud Computing and AI'}, page_content='One of the most significant advancements of this era has been the growth of cloud computing. Companies no longer needed to invest in expensive hardware to store data. Instead, cloud services like Amazon Web Services (AWS) and Microsoft Azure allowed businesses to store and process data remotely.'),\n",
       " Document(metadata={'Header 1': 'The Evolution of Technology in the 21st Century'}, page_content='Automation and its Challenges'),\n",
       " Document(metadata={'Header 1': 'The Evolution of Technology in the 21st Century', 'Header 3': 'Automation and its Challenges'}, page_content='Automation is another area that has seen rapid growth. Robotics and AI have been integrated into manufacturing, agriculture, and even healthcare.'),\n",
       " Document(metadata={'Header 1': 'The Evolution of Technology in the 21st Century', 'Header 3': 'Automation and its Challenges'}, page_content='However, this rapid advancement has not come without challenges, such as job displacement and privacy concerns.'),\n",
       " Document(metadata={'Header 1': 'The Evolution of Technology in the 21st Century', 'Header 2': 'Conclusion'}, page_content='In conclusion, the 21st century has been marked by rapid technological advancements that have reshaped society in countless ways. Balancing innovation with ethical considerations will be key to ensuring a future where technology benefits all of humanity.')]"
      ]
     },
     "execution_count": 3,
     "metadata": {},
     "output_type": "execute_result"
    }
   ],
   "source": [
    "html_splitter = HTMLHeaderTextSplitter(\n",
    "    headers_to_split_on=headers_to_split_on,\n",
    "    return_each_element=True,\n",
    ")\n",
    "chunks = html_splitter.split_text(text)\n",
    "chunks"
   ]
  },
  {
   "cell_type": "markdown",
   "metadata": {},
   "source": [
    "## Character Based Chunking\n",
    "\n",
    "This is a very simple technique where the chunks are created based on a seperator or the `chunk_size` given."
   ]
  },
  {
   "cell_type": "code",
   "execution_count": 4,
   "metadata": {},
   "outputs": [
    {
     "name": "stderr",
     "output_type": "stream",
     "text": [
      "Created a chunk of size 579, which is longer than the specified 500\n",
      "Created a chunk of size 631, which is longer than the specified 500\n"
     ]
    },
    {
     "data": {
      "text/plain": [
       "['Technology has grown at an unprecedented rate in the 21st century, transforming every facet of human life. From the ways we communicate to how we work, learn, and entertain ourselves, technological advancements have redefined the modern world. This rapid growth, driven by the convergence of the internet, artificial intelligence (AI), and automation, has opened up new possibilities and challenges alike.',\n",
       " 'The early 2000s witnessed the rise of personal computers and the internet, which revolutionized the way people accessed information. Before this period, gathering information meant visiting libraries, reading books, or consulting experts in person. The internet democratized knowledge by making it accessible to anyone with a connection. Search engines, such as Google, became essential tools for finding information instantly.',\n",
       " 'As internet infrastructure improved, mobile technology followed. The introduction of smartphones in the late 2000s and early 2010s, particularly with the release of the iPhone in 2007, marked a turning point. Smartphones brought the internet into everyone’s pocket, allowing for constant connectivity. Apps like Facebook, Instagram, and WhatsApp further expanded the digital landscape, making social media a central part of modern life. People now had the ability to stay connected with friends and family across the globe, share their experiences, and consume content on the go.',\n",
       " 'One of the most significant advancements of this era has been the growth of cloud computing. Companies no longer needed to invest in expensive hardware to store data. Instead, cloud services like Amazon Web Services (AWS) and Microsoft Azure allowed businesses to store and process data remotely, enabling flexibility and scalability. The shift to the cloud has also supported the rise of AI and machine learning. With access to large datasets stored in the cloud, AI systems can be trained to perform tasks that were once thought to be exclusive to humans, such as recognizing patterns in images or making decisions based on data.',\n",
       " 'Automation is another area that has seen rapid growth. Robotics and AI have been integrated into manufacturing, agriculture, and even healthcare. Factories are increasingly automated, reducing the need for manual labor. In agriculture, drones are being used to monitor crops and automate irrigation systems. Meanwhile, in healthcare, AI-driven diagnostic tools help doctors identify diseases more accurately.',\n",
       " 'However, this rapid advancement has not come without challenges. One major concern is the impact on jobs. As machines take over routine tasks, there are fears that many jobs will become obsolete. Workers in industries such as manufacturing and customer service may face significant changes. Governments and organizations are now focusing on reskilling and upskilling workers to adapt to this new reality.',\n",
       " 'Privacy is another growing concern. As people become more connected, personal data is increasingly being shared online. Social media platforms and tech companies collect vast amounts of information on user behavior, leading to concerns about how this data is used. Regulations such as the General Data Protection Regulation (GDPR) in Europe have been introduced to give people more control over their data, but the debate over privacy is far from settled.',\n",
       " 'Looking ahead, the pace of technological development shows no signs of slowing down. Quantum computing, 5G networks, and advancements in renewable energy technologies are just some of the innovations on the horizon. These technologies have the potential to further transform industries and create new opportunities.',\n",
       " 'In conclusion, the 21st century has been marked by rapid technological advancements that have reshaped society in countless ways. While these advancements have brought about unprecedented opportunities, they also come with significant challenges. As we move forward, balancing innovation with ethical considerations will be key to ensuring a future where technology benefits all of humanity.']"
      ]
     },
     "execution_count": 4,
     "metadata": {},
     "output_type": "execute_result"
    }
   ],
   "source": [
    "from langchain_text_splitters import CharacterTextSplitter\n",
    "\n",
    "with open(\"./sample.txt\", \"r\") as f:\n",
    "    text = f.read()\n",
    "\n",
    "text_splitter = CharacterTextSplitter(\n",
    "    separator=\"\\n\\n\",\n",
    "    chunk_size=500,\n",
    "    chunk_overlap=50\n",
    ") # Splits the text is there is a new para.\n",
    "\n",
    "chunks = text_splitter.split_text(text)\n",
    "chunks\n"
   ]
  },
  {
   "cell_type": "markdown",
   "metadata": {},
   "source": [
    "## Markdown Chunking\n",
    "\n",
    "This is ver similar to HTML chunking except that is for markdown content. IT uses markdown heading tags split the text into chunks."
   ]
  },
  {
   "cell_type": "code",
   "execution_count": 5,
   "metadata": {},
   "outputs": [
    {
     "data": {
      "text/plain": [
       "[Document(metadata={'Header 1': 'The Evolution of Technology in the 21st Century', 'Header 2': 'Introduction'}, page_content='Technology has grown at an unprecedented rate in the 21st century, transforming every facet of human life. From the ways we communicate to how we work, learn, and entertain ourselves, technological advancements have redefined the modern world.'),\n",
       " Document(metadata={'Header 1': 'The Evolution of Technology in the 21st Century', 'Header 2': 'The Rise of the Internet and Mobile Technology'}, page_content='The early 2000s witnessed the rise of personal computers and the internet, which revolutionized the way people accessed information. Before this period, gathering information meant visiting libraries, reading books, or consulting experts in person.  \\nAs internet infrastructure improved, mobile technology followed. The introduction of smartphones in the late 2000s, particularly with the release of the iPhone in 2007, marked a turning point.'),\n",
       " Document(metadata={'Header 1': 'The Evolution of Technology in the 21st Century', 'Header 2': 'The Rise of the Internet and Mobile Technology', 'Header 3': 'Cloud Computing and AI'}, page_content='One of the most significant advancements of this era has been the growth of cloud computing. Companies no longer needed to invest in expensive hardware to store data. Instead, cloud services like Amazon Web Services (AWS) and Microsoft Azure allowed businesses to store and process data remotely.'),\n",
       " Document(metadata={'Header 1': 'The Evolution of Technology in the 21st Century', 'Header 2': 'The Rise of the Internet and Mobile Technology', 'Header 3': 'Automation and its Challenges'}, page_content='Automation is another area that has seen rapid growth. Robotics and AI have been integrated into manufacturing, agriculture, and even healthcare.  \\nHowever, this rapid advancement has not come without challenges, such as job displacement and privacy concerns.'),\n",
       " Document(metadata={'Header 1': 'The Evolution of Technology in the 21st Century', 'Header 2': 'Conclusion'}, page_content='In conclusion, the 21st century has been marked by rapid technological advancements that have reshaped society in countless ways. Balancing innovation with ethical considerations will be key to ensuring a future where technology benefits all of humanity.')]"
      ]
     },
     "execution_count": 5,
     "metadata": {},
     "output_type": "execute_result"
    }
   ],
   "source": [
    "from langchain_text_splitters import MarkdownHeaderTextSplitter\n",
    "\n",
    "with open(\"./sample.md\", \"r\") as f:\n",
    "    md_text = f.read()\n",
    "\n",
    "headers_to_split_on = [\n",
    "    (\"#\", \"Header 1\"),\n",
    "    (\"##\", \"Header 2\"),\n",
    "    (\"###\", \"Header 3\"),\n",
    "]\n",
    "\n",
    "markdown_splitter = MarkdownHeaderTextSplitter(headers_to_split_on)\n",
    "chunks = markdown_splitter.split_text(md_text)\n",
    "chunks"
   ]
  },
  {
   "cell_type": "markdown",
   "metadata": {},
   "source": [
    "## Semantic Chunking\n",
    "\n",
    "HTML and markdown based chunking are typically enough in most cases. However, this kind of chunking is done based on the assumption that the text within each heading has it's own context and semantic meaning. This may not be the case always. In such cases, we can use semantic chunking to split the text into chunks based on the semantic meaning of the text.\n",
    "\n",
    "\n",
    "Here's how it works:\n",
    "\n",
    "1. The text is broken down into groups of 3 sentences.\n",
    "2. if two groups are similar (based on vector embeddings similarity), they are merged together."
   ]
  },
  {
   "cell_type": "code",
   "execution_count": 6,
   "metadata": {},
   "outputs": [
    {
     "data": {
      "text/plain": [
       "['Technology has grown at an unprecedented rate in the 21st century, transforming every facet of human life. From the ways we communicate to how we work, learn, and entertain ourselves, technological advancements have redefined the modern world. This rapid growth, driven by the convergence of the internet, artificial intelligence (AI), and automation, has opened up new possibilities and challenges alike. The early 2000s witnessed the rise of personal computers and the internet, which revolutionized the way people accessed information. Before this period, gathering information meant visiting libraries, reading books, or consulting experts in person. The internet democratized knowledge by making it accessible to anyone with a connection. Search engines, such as Google, became essential tools for finding information instantly. As internet infrastructure improved, mobile technology followed. The introduction of smartphones in the late 2000s and early 2010s, particularly with the release of the iPhone in 2007, marked a turning point. Smartphones brought the internet into everyone’s pocket, allowing for constant connectivity. Apps like Facebook, Instagram, and WhatsApp further expanded the digital landscape, making social media a central part of modern life. People now had the ability to stay connected with friends and family across the globe, share their experiences, and consume content on the go. One of the most significant advancements of this era has been the growth of cloud computing. Companies no longer needed to invest in expensive hardware to store data. Instead, cloud services like Amazon Web Services (AWS) and Microsoft Azure allowed businesses to store and process data remotely, enabling flexibility and scalability. The shift to the cloud has also supported the rise of AI and machine learning. With access to large datasets stored in the cloud, AI systems can be trained to perform tasks that were once thought to be exclusive to humans, such as recognizing patterns in images or making decisions based on data. Automation is another area that has seen rapid growth. Robotics and AI have been integrated into manufacturing, agriculture, and even healthcare. Factories are increasingly automated, reducing the need for manual labor. In agriculture, drones are being used to monitor crops and automate irrigation systems. Meanwhile, in healthcare, AI-driven diagnostic tools help doctors identify diseases more accurately. However, this rapid advancement has not come without challenges.',\n",
       " 'One major concern is the impact on jobs. As machines take over routine tasks, there are fears that many jobs will become obsolete. Workers in industries such as manufacturing and customer service may face significant changes. Governments and organizations are now focusing on reskilling and upskilling workers to adapt to this new reality. Privacy is another growing concern. As people become more connected, personal data is increasingly being shared online. Social media platforms and tech companies collect vast amounts of information on user behavior, leading to concerns about how this data is used. Regulations such as the General Data Protection Regulation (GDPR) in Europe have been introduced to give people more control over their data, but the debate over privacy is far from settled. Looking ahead, the pace of technological development shows no signs of slowing down.',\n",
       " 'Quantum computing, 5G networks, and advancements in renewable energy technologies are just some of the innovations on the horizon. These technologies have the potential to further transform industries and create new opportunities. In conclusion, the 21st century has been marked by rapid technological advancements that have reshaped society in countless ways. While these advancements have brought about unprecedented opportunities, they also come with significant challenges. As we move forward, balancing innovation with ethical considerations will be key to ensuring a future where technology benefits all of humanity. ']"
      ]
     },
     "execution_count": 6,
     "metadata": {},
     "output_type": "execute_result"
    }
   ],
   "source": [
    "from langchain_experimental.text_splitter import SemanticChunker\n",
    "from langchain_openai.embeddings import OpenAIEmbeddings\n",
    "from dotenv import load_dotenv\n",
    "\n",
    "load_dotenv()\n",
    "\n",
    "with open(\"./sample.txt\", \"r\") as f:\n",
    "    text = f.read()\n",
    "\n",
    "text_splitter = SemanticChunker(OpenAIEmbeddings())\n",
    "chunks = text_splitter.split_text(text)\n",
    "chunks"
   ]
  },
  {
   "cell_type": "markdown",
   "metadata": {},
   "source": [
    "### Breakpoints\n",
    "We can decide the when the text should split based on a breakpoint set. First we need to set the `breakpoint_threshold_type` to `percentile`, `standard_deviation`, `interquartile` or `gradient`. The we can set the `breakpoint_threshold_amount` to the desired value. If the difference between two sentences is greater than the threshold(`breakpoint_threshold_amount`), then the text is split."
   ]
  },
  {
   "cell_type": "code",
   "execution_count": 10,
   "metadata": {},
   "outputs": [
    {
     "data": {
      "text/plain": [
       "['Technology has grown at an unprecedented rate in the 21st century, transforming every facet of human life. From the ways we communicate to how we work, learn, and entertain ourselves, technological advancements have redefined the modern world. This rapid growth, driven by the convergence of the internet, artificial intelligence (AI), and automation, has opened up new possibilities and challenges alike. The early 2000s witnessed the rise of personal computers and the internet, which revolutionized the way people accessed information. Before this period, gathering information meant visiting libraries, reading books, or consulting experts in person. The internet democratized knowledge by making it accessible to anyone with a connection. Search engines, such as Google, became essential tools for finding information instantly.',\n",
       " 'As internet infrastructure improved, mobile technology followed. The introduction of smartphones in the late 2000s and early 2010s, particularly with the release of the iPhone in 2007, marked a turning point. Smartphones brought the internet into everyone’s pocket, allowing for constant connectivity. Apps like Facebook, Instagram, and WhatsApp further expanded the digital landscape, making social media a central part of modern life. People now had the ability to stay connected with friends and family across the globe, share their experiences, and consume content on the go. One of the most significant advancements of this era has been the growth of cloud computing.',\n",
       " 'Companies no longer needed to invest in expensive hardware to store data. Instead, cloud services like Amazon Web Services (AWS) and Microsoft Azure allowed businesses to store and process data remotely, enabling flexibility and scalability. The shift to the cloud has also supported the rise of AI and machine learning. With access to large datasets stored in the cloud, AI systems can be trained to perform tasks that were once thought to be exclusive to humans, such as recognizing patterns in images or making decisions based on data. Automation is another area that has seen rapid growth.',\n",
       " 'Robotics and AI have been integrated into manufacturing, agriculture, and even healthcare.',\n",
       " 'Factories are increasingly automated, reducing the need for manual labor. In agriculture, drones are being used to monitor crops and automate irrigation systems. Meanwhile, in healthcare, AI-driven diagnostic tools help doctors identify diseases more accurately.',\n",
       " 'However, this rapid advancement has not come without challenges.',\n",
       " 'One major concern is the impact on jobs. As machines take over routine tasks, there are fears that many jobs will become obsolete.',\n",
       " 'Workers in industries such as manufacturing and customer service may face significant changes. Governments and organizations are now focusing on reskilling and upskilling workers to adapt to this new reality. Privacy is another growing concern.',\n",
       " 'As people become more connected, personal data is increasingly being shared online. Social media platforms and tech companies collect vast amounts of information on user behavior, leading to concerns about how this data is used. Regulations such as the General Data Protection Regulation (GDPR) in Europe have been introduced to give people more control over their data, but the debate over privacy is far from settled. Looking ahead, the pace of technological development shows no signs of slowing down.',\n",
       " 'Quantum computing, 5G networks, and advancements in renewable energy technologies are just some of the innovations on the horizon. These technologies have the potential to further transform industries and create new opportunities. In conclusion, the 21st century has been marked by rapid technological advancements that have reshaped society in countless ways. While these advancements have brought about unprecedented opportunities, they also come with significant challenges. As we move forward, balancing innovation with ethical considerations will be key to ensuring a future where technology benefits all of humanity. ']"
      ]
     },
     "execution_count": 10,
     "metadata": {},
     "output_type": "execute_result"
    }
   ],
   "source": [
    "text_splitter = SemanticChunker(\n",
    "    OpenAIEmbeddings(), \n",
    "    breakpoint_threshold_type=\"percentile\",\n",
    "    breakpoint_threshold_amount=75 \n",
    ")\n",
    "\n",
    "chunks = text_splitter.split_text(text)\n",
    "chunks"
   ]
  }
 ],
 "metadata": {
  "kernelspec": {
   "display_name": ".venv",
   "language": "python",
   "name": "python3"
  },
  "language_info": {
   "codemirror_mode": {
    "name": "ipython",
    "version": 3
   },
   "file_extension": ".py",
   "mimetype": "text/x-python",
   "name": "python",
   "nbconvert_exporter": "python",
   "pygments_lexer": "ipython3",
   "version": "3.11.1"
  }
 },
 "nbformat": 4,
 "nbformat_minor": 2
}
