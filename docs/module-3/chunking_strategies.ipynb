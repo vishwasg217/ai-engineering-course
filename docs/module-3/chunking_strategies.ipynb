{
 "cells": [
  {
   "cell_type": "markdown",
   "metadata": {},
   "source": [
    "# Chunking Strategies\n",
    "\n",
    "It is important to chunk the text data into smaller parts before converting them into vector embeddings and storing it in a vector database. It allows us to retrieve the exact content that is relevant to the query, as having irrelevant content in the context leads to unnecessary of tokens and generation of irrelevant response.\n",
    "\n",
    "In order to chunk our text we will be using the langchain text splitters library. This library provides a variety of text splitters that can be used to split the text into smaller chunks.\n",
    "\n",
    "## Recursive chunking\n",
    "Here, the text is splitted on `[\"\\n\\n\", \"\\n\", \" \", \"\"]` characters until the chunk size is small enough.\n",
    "\n",
    "Parameters:\n",
    "1. `seperators`: List of characters to split the text on. The default is `[\"\\n\\n\", \"\\n\", \" \", \"\"]`.\n",
    "2. `chunk_size`: the max size of the chunk.\n",
    "3. `chunk_overlap`: length of the overlapping text between the chunks."
   ]
  },
  {
   "cell_type": "code",
   "execution_count": 1,
   "metadata": {},
   "outputs": [
    {
     "data": {
      "text/plain": [
       "['TXT test file\\nPurpose: Provide example of this file type\\nDocument file type: TXT\\nVersion: 1.0',\n",
       " 'Remark:',\n",
       " 'Example content:',\n",
       " 'The names \"John Doe\" for males, \"Jane Doe\" or \"Jane Roe\" for females, or \"Jonnie Doe\" and \"Janie',\n",
       " '\"Janie Doe\" for children, or just \"Doe\" non-gender-specifically are used as placeholder names for a',\n",
       " 'for a party whose true identity is unknown or must be withheld in a legal action, case, or',\n",
       " 'case, or discussion. The names are also used to refer to acorpse or hospital patient whose identity',\n",
       " 'identity is unknown. This practice is widely used in the United States and Canada, but is rarely',\n",
       " 'is rarely used in other English-speaking countries including the United Kingdom itself, from where',\n",
       " 'where the use of \"John Doe\" in a legal context originates. The names Joe Bloggs or John Smith are',\n",
       " 'Smith are used in the UK instead, as well as in Australia and New Zealand.',\n",
       " 'John Doe is sometimes used to refer to a typical male in other contexts as well, in a similar',\n",
       " 'a similar manner to John Q. Public, known in Great Britain as Joe Public, John Smith or Joe Bloggs.',\n",
       " 'Bloggs. For example, the first name listed on a form is often John Doe, along with a fictional',\n",
       " 'fictional address or other fictional information to provide an example of how to fill in the form.',\n",
       " 'the form. The name is also used frequently in popular culture, for example in the Frank Capra film',\n",
       " 'film Meet John Doe. John Doe was also the name of a 2002 American television series.',\n",
       " 'Similarly, a child or baby whose identity is unknown may be referred to as Baby Doe. A notorious',\n",
       " 'notorious murder case in Kansas City, Missouri, referred to the baby victim as Precious Doe. Other',\n",
       " 'Other unidentified female murder victims are Cali Doe and Princess Doe. Additional persons may be',\n",
       " 'may be called James Doe, Judy Doe, etc. However, to avoid possible confusion, if two anonymous or',\n",
       " 'or unknown parties are cited in a specific case or action, the surnames Doe and Roe may be used',\n",
       " 'be used simultaneously; for example, \"John Doe v. Jane Roe\". If several anonymous parties are',\n",
       " 'are referenced, they may simply be labelled John Doe #1, John Doe #2, etc. (the U.S. Operation',\n",
       " 'Operation Delego cited 21 (numbered) \"John Doe\"s) or labelled with other variants of Doe / Roe /',\n",
       " '/ Roe / Poe / etc. Other early alternatives such as John Stiles and Richard Miles are now rarely',\n",
       " 'rarely used, and Mary Major has been used in some American federal cases.',\n",
       " 'File created by https://www.online-convert.com',\n",
       " 'More example files: https://www.online-convert.com/file-type',\n",
       " 'Text of Example content: Wikipedia (https://en.wikipedia.org/wiki/John_Doe)',\n",
       " 'License: Attribution-ShareAlike 4.0 (https://creativecommons.org/licenses/by-sa/4.0/)',\n",
       " 'Feel free to use and share the file according to the license above.']"
      ]
     },
     "execution_count": 1,
     "metadata": {},
     "output_type": "execute_result"
    }
   ],
   "source": [
    "from langchain_text_splitters import RecursiveCharacterTextSplitter\n",
    "\n",
    "with open(\"./sample.txt\", \"r\") as f:\n",
    "    text = f.read()\n",
    "\n",
    "text_splitter = RecursiveCharacterTextSplitter(\n",
    "    chunk_size=100,\n",
    "    chunk_overlap=10,\n",
    ")\n",
    "\n",
    "chunks = text_splitter.split_text(text)\n",
    "chunks"
   ]
  },
  {
   "cell_type": "markdown",
   "metadata": {},
   "source": [
    "### HTML based chunking\n",
    "While recursive chhunking might be good enough for generic cases, it might not be good enough for cases where the text data does has a semantic structure to it. With the use of recursive chunking there is no guarantee that each chunk is \"context aware and not split in between a piec of information. HTML based chunking makes sure that no chunk has no incomplete information by using the HTML tags as the seperators rather than using escape sequences."
   ]
  },
  {
   "cell_type": "code",
   "execution_count": null,
   "metadata": {},
   "outputs": [],
   "source": []
  }
 ],
 "metadata": {
  "kernelspec": {
   "display_name": ".venv",
   "language": "python",
   "name": "python3"
  },
  "language_info": {
   "codemirror_mode": {
    "name": "ipython",
    "version": 3
   },
   "file_extension": ".py",
   "mimetype": "text/x-python",
   "name": "python",
   "nbconvert_exporter": "python",
   "pygments_lexer": "ipython3",
   "version": "3.11.1"
  }
 },
 "nbformat": 4,
 "nbformat_minor": 2
}
