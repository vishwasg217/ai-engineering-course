{
 "cells": [
  {
   "cell_type": "markdown",
   "metadata": {},
   "source": [
    "# Pre Retrieval Strategies\n",
    "\n"
   ]
  },
  {
   "cell_type": "markdown",
   "metadata": {},
   "source": [
    "## Query Transformation"
   ]
  },
  {
   "cell_type": "code",
   "execution_count": 85,
   "metadata": {},
   "outputs": [
    {
     "data": {
      "text/plain": [
       "['Analytics Vidhya',\n",
       " 'MDN Web Docs',\n",
       " 'GeeksForGeeks',\n",
       " 'KDnuggets',\n",
       " 'Smashing Magazine',\n",
       " 'Towards Data Science',\n",
       " 'TechCrunch',\n",
       " 'Codecademy',\n",
       " 'Krebs on Security']"
      ]
     },
     "execution_count": 85,
     "metadata": {},
     "output_type": "execute_result"
    }
   ],
   "source": [
    "import json\n",
    "\n",
    "with open(\"./articles.json\", \"r\") as f:\n",
    "    articles = json.load(f)\n",
    "\n",
    "article_categories = []\n",
    "authors = []\n",
    "for article in articles:\n",
    "    article_categories.append(article[\"category\"])\n",
    "    authors.append(article[\"author\"])\n",
    "\n",
    "# set(article_categories)\n",
    "list(set(authors))"
   ]
  },
  {
   "cell_type": "code",
   "execution_count": 86,
   "metadata": {},
   "outputs": [],
   "source": [
    "from enum import Enum\n",
    "\n",
    "# List of categories and authors\n",
    "article_categories = ['Cybersecurity', 'Data Science', 'ML', 'Programming', 'Web Development']\n",
    "authors = ['Towards Data Science', 'Smashing Magazine', 'Codecademy', 'MDN Web Docs', \n",
    "           'Krebs on Security', 'GeeksForGeeks', 'Analytics Vidhya', 'KDnuggets', 'TechCrunch']\n",
    "\n",
    "# Dynamically create Enum classes\n",
    "ArticleCategory = Enum('ArticleCategory', {category.replace(' ', '_').upper(): category for category in article_categories})\n",
    "Author = Enum('Author', {author.replace(' ', '_').upper(): author for author in authors})\n"
   ]
  },
  {
   "cell_type": "code",
   "execution_count": 87,
   "metadata": {},
   "outputs": [],
   "source": [
    "from pydantic import BaseModel, Field\n",
    "from datetime import date\n",
    "from typing import Literal, Optional, List\n",
    "\n",
    "PROMPT = \"\"\" \n",
    "    Your task is to transform a given query into a schema/structure given.\n",
    "    This schema will be used to filter articles based on the given query.\n",
    "\n",
    "    Here is a description of the parameters:\n",
    "    - rewritten_query: rewrite query that is more keyword based like it is for a search engine.\n",
    "    - author: Only if any particular author of the article mentioned in the query.\n",
    "    - category: Only if any particular category of the article mentioned in the query\n",
    "    - date_range: Create a date range if there is any mention of time period/date in the query. like a year or month.\n",
    "\"\"\"\n",
    "\n",
    "class DateRange(BaseModel):\n",
    "    start_date: str\n",
    "    end: str\n",
    "\n",
    "class Article(BaseModel):\n",
    "    rewritten_query: str\n",
    "    author: Optional[Author]\n",
    "    category: Optional[ArticleCategory]\n",
    "    date_range: DateRange\n"
   ]
  },
  {
   "cell_type": "code",
   "execution_count": 88,
   "metadata": {},
   "outputs": [
    {
     "name": "stdout",
     "output_type": "stream",
     "text": [
      "rewritten_query='definition of machine learning' author=None category=None date_range=DateRange(start_date='', end='')\n"
     ]
    }
   ],
   "source": [
    "from openai import OpenAI\n",
    "from dotenv import load_dotenv\n",
    "\n",
    "load_dotenv(\"./../.env\")\n",
    "\n",
    "client = OpenAI()\n",
    "\n",
    "def transform_query(query, system_prompt, response_format):\n",
    "    response = client.beta.chat.completions.parse(\n",
    "        model=\"gpt-4o-mini\",\n",
    "        messages=[\n",
    "            {\"role\": \"system\", \"content\": system_prompt},\n",
    "            {\"role\": \"user\", \"content\": query}\n",
    "        ],\n",
    "        response_format=response_format\n",
    "    )\n",
    "\n",
    "    return response.choices[0].message.parsed\n",
    "\n",
    "\n",
    "response = transform_query(\"what is machine learning?\", PROMPT, Article)\n",
    "print(response)"
   ]
  },
  {
   "cell_type": "code",
   "execution_count": 89,
   "metadata": {},
   "outputs": [
    {
     "data": {
      "text/plain": [
       "Article(rewritten_query='updates in cybersecurity news', author=None, category=<ArticleCategory.CYBERSECURITY: 'Cybersecurity'>, date_range=DateRange(start_date='2023-01-01', end='2023-10-31'))"
      ]
     },
     "execution_count": 89,
     "metadata": {},
     "output_type": "execute_result"
    }
   ],
   "source": [
    "query = \"what has been going on in the world of cybersecurity?\"\n",
    "response = transform_query(query, PROMPT, Article)\n",
    "response"
   ]
  },
  {
   "cell_type": "code",
   "execution_count": 90,
   "metadata": {},
   "outputs": [
    {
     "data": {
      "text/plain": [
       "Article(rewritten_query='tech crunch articles July 2023', author=<Author.TECHCRUNCH: 'TechCrunch'>, category=None, date_range=DateRange(start_date='2023-07-01', end='2023-07-31'))"
      ]
     },
     "execution_count": 90,
     "metadata": {},
     "output_type": "execute_result"
    }
   ],
   "source": [
    "query = \"what are articles from tech crunch in july 2023?\"\n",
    "response = transform_query(query, PROMPT, Article)\n",
    "response"
   ]
  }
 ],
 "metadata": {
  "kernelspec": {
   "display_name": ".venv",
   "language": "python",
   "name": "python3"
  },
  "language_info": {
   "codemirror_mode": {
    "name": "ipython",
    "version": 3
   },
   "file_extension": ".py",
   "mimetype": "text/x-python",
   "name": "python",
   "nbconvert_exporter": "python",
   "pygments_lexer": "ipython3",
   "version": "3.11.1"
  }
 },
 "nbformat": 4,
 "nbformat_minor": 2
}
