{
 "cells": [
  {
   "cell_type": "markdown",
   "metadata": {},
   "source": [
    "# Pre Retrieval Strategies\n",
    "\n"
   ]
  },
  {
   "cell_type": "markdown",
   "metadata": {},
   "source": [
    "## Query Transformation"
   ]
  },
  {
   "cell_type": "code",
   "execution_count": 1,
   "metadata": {},
   "outputs": [
    {
     "data": {
      "text/plain": [
       "['TechCrunch',\n",
       " 'MDN Web Docs',\n",
       " 'Towards Data Science',\n",
       " 'Smashing Magazine',\n",
       " 'Krebs on Security',\n",
       " 'Codecademy',\n",
       " 'GeeksForGeeks',\n",
       " 'KDnuggets']"
      ]
     },
     "execution_count": 1,
     "metadata": {},
     "output_type": "execute_result"
    }
   ],
   "source": [
    "import json\n",
    "\n",
    "with open(\"./articles.json\", \"r\") as f:\n",
    "    articles = json.load(f)\n",
    "\n",
    "article_categories = []\n",
    "authors = []\n",
    "for article in articles:\n",
    "    article_categories.append(article[\"category\"])\n",
    "    authors.append(article[\"author\"])\n",
    "\n",
    "# set(article_categories)\n",
    "list(set(authors))"
   ]
  },
  {
   "cell_type": "code",
   "execution_count": 2,
   "metadata": {},
   "outputs": [],
   "source": [
    "from enum import Enum\n",
    "\n",
    "# List of categories and authors\n",
    "article_categories = ['Cybersecurity', 'Data Science', 'ML', 'Programming', 'Web Development']\n",
    "authors = ['Towards Data Science', 'Smashing Magazine', 'Codecademy', 'MDN Web Docs', \n",
    "           'Krebs on Security', 'GeeksForGeeks', 'Analytics Vidhya', 'KDnuggets', 'TechCrunch']\n",
    "\n",
    "# Dynamically create Enum classes\n",
    "ArticleCategory = Enum('ArticleCategory', {category.replace(' ', '_').upper(): category for category in article_categories})\n",
    "Author = Enum('Author', {author.replace(' ', '_').upper(): author for author in authors})\n"
   ]
  },
  {
   "cell_type": "code",
   "execution_count": 3,
   "metadata": {},
   "outputs": [],
   "source": [
    "from pydantic import BaseModel\n",
    "from typing import Optional\n",
    "\n",
    "PROMPT = \"\"\" \n",
    "    Your task is to transform a given query into a schema/structure given.\n",
    "    This schema will be used to filter articles based on the given query.\n",
    "\n",
    "    Here is a description of the parameters:\n",
    "    - rewritten_query: rewrite query that is more keyword based like it is for a search engine.\n",
    "    - author: Only if any particular author of the article mentioned in the query.\n",
    "    - category: Only if any particular category of the article mentioned in the query\n",
    "    - date_range: Create a date range if there is any mention of time period/date in the query. like a year or month.\n",
    "\"\"\"\n",
    "\n",
    "class DateRange(BaseModel):\n",
    "    start_date: str\n",
    "    end: str\n",
    "\n",
    "class ArticleQuery(BaseModel):\n",
    "    rewritten_query: str\n",
    "    author: Optional[Author]\n",
    "    category: Optional[ArticleCategory]\n",
    "    date_range: DateRange\n"
   ]
  },
  {
   "cell_type": "code",
   "execution_count": 4,
   "metadata": {},
   "outputs": [
    {
     "name": "stdout",
     "output_type": "stream",
     "text": [
      "rewritten_query='definition of machine learning' author=None category=<ArticleCategory.ML: 'ML'> date_range=DateRange(start_date='', end='')\n"
     ]
    }
   ],
   "source": [
    "from openai import OpenAI\n",
    "from dotenv import load_dotenv\n",
    "\n",
    "load_dotenv(\"./../.env\")\n",
    "\n",
    "def transform_query(query, system_prompt, response_format):\n",
    "    client = OpenAI()\n",
    "    response = client.beta.chat.completions.parse(\n",
    "        model=\"gpt-4o-mini\",\n",
    "        messages=[\n",
    "            {\"role\": \"system\", \"content\": system_prompt},\n",
    "            {\"role\": \"user\", \"content\": query}\n",
    "        ],\n",
    "        response_format=response_format\n",
    "    )\n",
    "\n",
    "    return response.choices[0].message.parsed\n",
    "\n",
    "\n",
    "response1 = transform_query(\"what is machine learning?\", PROMPT, ArticleQuery)\n",
    "print(response1)"
   ]
  },
  {
   "cell_type": "code",
   "execution_count": 5,
   "metadata": {},
   "outputs": [
    {
     "data": {
      "text/plain": [
       "ArticleQuery(rewritten_query='cybersecurity 2022', author=None, category=<ArticleCategory.CYBERSECURITY: 'Cybersecurity'>, date_range=DateRange(start_date='2022-01-01', end='2022-12-31'))"
      ]
     },
     "execution_count": 5,
     "metadata": {},
     "output_type": "execute_result"
    }
   ],
   "source": [
    "query = \"cyber security in 2022\"\n",
    "response2 = transform_query(query, PROMPT, ArticleQuery)\n",
    "response2"
   ]
  },
  {
   "cell_type": "code",
   "execution_count": 6,
   "metadata": {},
   "outputs": [
    {
     "data": {
      "text/plain": [
       "ArticleQuery(rewritten_query='articles from Towards Data Science in 2022', author=<Author.TOWARDS_DATA_SCIENCE: 'Towards Data Science'>, category=None, date_range=DateRange(start_date='2022-01-01', end='2022-12-31'))"
      ]
     },
     "execution_count": 6,
     "metadata": {},
     "output_type": "execute_result"
    }
   ],
   "source": [
    "query = \"what are articles from Towards Data Science in 2022\"\n",
    "response3 = transform_query(query, PROMPT, ArticleQuery)\n",
    "response3"
   ]
  },
  {
   "cell_type": "markdown",
   "metadata": {},
   "source": [
    "Run command `kill -9 $(lsof -t -i :8079)` in terminal if you want to reconnect to client"
   ]
  },
  {
   "cell_type": "code",
   "execution_count": 7,
   "metadata": {},
   "outputs": [
    {
     "name": "stderr",
     "output_type": "stream",
     "text": [
      "{\"action\":\"startup\",\"default_vectorizer_module\":\"none\",\"level\":\"info\",\"msg\":\"the default vectorizer modules is set to \\\"none\\\", as a result all new schema classes without an explicit vectorizer setting, will use this vectorizer\",\"time\":\"2024-09-25T12:24:43+05:30\"}\n",
      "{\"action\":\"startup\",\"auto_schema_enabled\":true,\"level\":\"info\",\"msg\":\"auto schema enabled setting is set to \\\"true\\\"\",\"time\":\"2024-09-25T12:24:43+05:30\"}\n",
      "{\"level\":\"info\",\"msg\":\"No resource limits set, weaviate will use all available memory and CPU. To limit resources, set LIMIT_RESOURCES=true\",\"time\":\"2024-09-25T12:24:43+05:30\"}\n",
      "{\"level\":\"info\",\"msg\":\"module offload-s3 is enabled\",\"time\":\"2024-09-25T12:24:43+05:30\"}\n",
      "{\"level\":\"warning\",\"msg\":\"Multiple vector spaces are present, GraphQL Explore and REST API list objects endpoint module include params has been disabled as a result.\",\"time\":\"2024-09-25T12:24:43+05:30\"}\n",
      "{\"level\":\"info\",\"msg\":\"open cluster service\",\"servers\":{\"Embedded_at_8079\":53536},\"time\":\"2024-09-25T12:24:43+05:30\"}\n",
      "{\"address\":\"172.22.13.215:53537\",\"level\":\"info\",\"msg\":\"starting cloud rpc server ...\",\"time\":\"2024-09-25T12:24:43+05:30\"}\n",
      "{\"level\":\"info\",\"msg\":\"starting raft sub-system ...\",\"time\":\"2024-09-25T12:24:43+05:30\"}\n",
      "{\"address\":\"172.22.13.215:53536\",\"level\":\"info\",\"msg\":\"tcp transport\",\"tcpMaxPool\":3,\"tcpTimeout\":10000000000,\"time\":\"2024-09-25T12:24:43+05:30\"}\n",
      "{\"level\":\"info\",\"msg\":\"loading local db\",\"time\":\"2024-09-25T12:24:43+05:30\"}\n",
      "{\"level\":\"info\",\"msg\":\"local DB successfully loaded\",\"time\":\"2024-09-25T12:24:43+05:30\"}\n",
      "{\"level\":\"info\",\"msg\":\"schema manager loaded\",\"n\":0,\"time\":\"2024-09-25T12:24:43+05:30\"}\n",
      "{\"level\":\"info\",\"metadata_only_voters\":false,\"msg\":\"construct a new raft node\",\"name\":\"Embedded_at_8079\",\"time\":\"2024-09-25T12:24:43+05:30\"}\n",
      "{\"id\":\"2-3-1726727697440\",\"last-index\":3,\"last-term\":2,\"level\":\"info\",\"msg\":\"starting restore from snapshot\",\"size-in-bytes\":21578,\"time\":\"2024-09-25T12:24:43+05:30\"}\n",
      "{\"level\":\"info\",\"msg\":\"restoring schema from snapshot\",\"time\":\"2024-09-25T12:24:43+05:30\"}\n",
      "{\"level\":\"info\",\"msg\":\"successfully restored schema from snapshot\",\"time\":\"2024-09-25T12:24:43+05:30\"}\n",
      "{\"last_applied_index\":0,\"last_snapshot_index\":3,\"last_store_log_applied_index\":60,\"level\":\"info\",\"msg\":\"load local db from snapshot\",\"time\":\"2024-09-25T12:24:43+05:30\"}\n",
      "{\"action\":\"\",\"id\":\"2-3-1726727697440\",\"last-index\":3,\"last-term\":2,\"level\":\"info\",\"msg\":\"snapshot restore progress\",\"percent-complete\":\"[100.00]%\",\"read-bytes\":21578,\"size-in-bytes\":21578,\"time\":\"2024-09-25T12:24:43+05:30\"}\n",
      "{\"id\":\"2-3-1726727697440\",\"last-index\":3,\"last-term\":2,\"level\":\"info\",\"msg\":\"restored from snapshot\",\"size-in-bytes\":21578,\"time\":\"2024-09-25T12:24:43+05:30\"}\n",
      "{\"action\":\"raft\",\"index\":57,\"level\":\"info\",\"msg\":\"raft initial configuration\",\"servers\":\"[[{Suffrage:Voter ID:Embedded_at_8079 Address:172.22.13.215:53421}]]\",\"time\":\"2024-09-25T12:24:43+05:30\"}\n",
      "{\"action\":\"raft\",\"follower\":{},\"leader-address\":\"\",\"leader-id\":\"\",\"level\":\"info\",\"msg\":\"raft entering follower state\",\"time\":\"2024-09-25T12:24:43+05:30\"}\n",
      "{\"last_snapshot_index\":3,\"last_store_applied_index\":3,\"last_store_log_applied_index\":60,\"level\":\"info\",\"msg\":\"raft node constructed\",\"raft_applied_index\":3,\"raft_last_index\":60,\"time\":\"2024-09-25T12:24:43+05:30\"}\n",
      "{\"action\":\"raft\",\"last-leader-addr\":\"\",\"last-leader-id\":\"\",\"level\":\"warning\",\"msg\":\"raft heartbeat timeout reached, starting election\",\"time\":\"2024-09-25T12:24:44+05:30\"}\n",
      "{\"action\":\"raft\",\"level\":\"info\",\"msg\":\"raft entering candidate state\",\"node\":{},\"term\":23,\"time\":\"2024-09-25T12:24:44+05:30\"}\n",
      "{\"action\":\"raft\",\"level\":\"info\",\"msg\":\"raft election won\",\"tally\":1,\"term\":23,\"time\":\"2024-09-25T12:24:45+05:30\"}\n",
      "{\"action\":\"raft\",\"leader\":{},\"level\":\"info\",\"msg\":\"raft entering leader state\",\"time\":\"2024-09-25T12:24:45+05:30\"}\n",
      "{\"level\":\"info\",\"msg\":\"reload local db: update schema ...\",\"time\":\"2024-09-25T12:24:45+05:30\"}\n",
      "{\"index\":\"LlamaIndex\",\"level\":\"info\",\"msg\":\"reload local index\",\"time\":\"2024-09-25T12:24:45+05:30\"}\n",
      "{\"index\":\"Article\",\"level\":\"info\",\"msg\":\"reload local index\",\"time\":\"2024-09-25T12:24:45+05:30\"}\n",
      "{\"action\":\"bootstrap\",\"level\":\"info\",\"msg\":\"node reporting ready, node has probably recovered cluster from raft config. Exiting bootstrap process\",\"time\":\"2024-09-25T12:24:45+05:30\"}\n",
      "{\"docker_image_tag\":\"unknown\",\"level\":\"info\",\"msg\":\"configured versions\",\"server_version\":\"1.26.1\",\"time\":\"2024-09-25T12:24:45+05:30\"}\n",
      "{\"action\":\"grpc_startup\",\"level\":\"info\",\"msg\":\"grpc server listening at [::]:50050\",\"time\":\"2024-09-25T12:24:45+05:30\"}\n",
      "{\"address\":\"172.22.13.215:53536\",\"level\":\"info\",\"msg\":\"current Leader\",\"time\":\"2024-09-25T12:24:45+05:30\"}\n",
      "{\"action\":\"restapi_management\",\"docker_image_tag\":\"unknown\",\"level\":\"info\",\"msg\":\"Serving weaviate at http://127.0.0.1:8079\",\"time\":\"2024-09-25T12:24:45+05:30\"}\n"
     ]
    }
   ],
   "source": [
    "import weaviate\n",
    "from dotenv import load_dotenv\n",
    "import os\n",
    "import socket\n",
    "\n",
    "def is_port_in_use(port):\n",
    "    with socket.socket(socket.AF_INET, socket.SOCK_STREAM) as sock:\n",
    "        return sock.connect_ex(('127.0.0.1', port)) == 0\n",
    "\n",
    "load_dotenv(\"./../.env\")\n",
    "\n",
    "client = weaviate.connect_to_embedded(\n",
    "    headers={\n",
    "        \"X-OpenAI-Api-Key\": os.getenv(\"OPENAI_API_KEY\")\n",
    "    }\n",
    ")\n",
    "article = client.collections.get(\"Article\")\n"
   ]
  },
  {
   "cell_type": "markdown",
   "metadata": {},
   "source": []
  },
  {
   "cell_type": "code",
   "execution_count": 8,
   "metadata": {},
   "outputs": [],
   "source": [
    "import textwrap\n",
    "\n",
    "def print_objects(objects):\n",
    "    \"\"\"\n",
    "        a function to print the retrieved objects\n",
    "    \"\"\"\n",
    "    for obj in objects:\n",
    "        print(f\"ID: {obj.uuid.int}\")\n",
    "        metadata = [{k: round(v, 2) if isinstance(v, float) else v} for k, v in obj.metadata.__dict__.items() if v is not None]\n",
    "        print(f\"Metadata: {metadata}\")\n",
    "        print(f\"Title: {obj.properties['title']}\")\n",
    "        print(f\"Date: {obj.properties['date']}\")\n",
    "        print(f\"Category: {obj.properties['category']}\")\n",
    "        print(f\"Author: {obj.properties['author']}\")\n",
    "        print(f\"Body: {textwrap.shorten(obj.properties['body'], width=100)}\")\n",
    "        print()"
   ]
  },
  {
   "cell_type": "code",
   "execution_count": 9,
   "metadata": {},
   "outputs": [
    {
     "name": "stdout",
     "output_type": "stream",
     "text": [
      "Query: rewritten_query='definition of machine learning' author=None category=<ArticleCategory.ML: 'ML'> date_range=DateRange(start_date='', end='')\n",
      "\n"
     ]
    },
    {
     "name": "stderr",
     "output_type": "stream",
     "text": [
      "{\"action\":\"telemetry_push\",\"level\":\"info\",\"msg\":\"telemetry started\",\"payload\":\"\\u0026{MachineID:d52e011e-8305-416e-8f39-2e6299413b63 Type:INIT Version:1.26.1 NumObjects:0 OS:darwin Arch:arm64 UsedModules:[text2vec-openai]}\",\"time\":\"2024-09-25T12:24:46+05:30\"}\n",
      "{\"action\":\"lsm_recover_from_active_wal\",\"class\":\"Article\",\"index\":\"article\",\"level\":\"warning\",\"msg\":\"active write-ahead-log found. Did weaviate crash prior to this or the tenant on/loaded from the cloud? Trying to recover...\",\"path\":\"/Users/vishwasgowda/.local/share/weaviate/article/PHiJNusYv2bT/lsm/objects/segment-1727247230532865000\",\"shard\":\"PHiJNusYv2bT\",\"time\":\"2024-09-25T12:24:46+05:30\"}\n",
      "{\"action\":\"lsm_recover_from_active_wal_success\",\"class\":\"Article\",\"index\":\"article\",\"level\":\"info\",\"msg\":\"successfully recovered from write-ahead-log\",\"path\":\"/Users/vishwasgowda/.local/share/weaviate/article/PHiJNusYv2bT/lsm/objects/segment-1727247230532865000.wal\",\"shard\":\"PHiJNusYv2bT\",\"time\":\"2024-09-25T12:24:46+05:30\"}\n",
      "{\"action\":\"lsm_recover_from_active_wal\",\"class\":\"Article\",\"index\":\"article\",\"level\":\"warning\",\"msg\":\"active write-ahead-log found. Did weaviate crash prior to this or the tenant on/loaded from the cloud? Trying to recover...\",\"path\":\"/Users/vishwasgowda/.local/share/weaviate/article/PHiJNusYv2bT/lsm/property_title/segment-1727247230533512000\",\"shard\":\"PHiJNusYv2bT\",\"time\":\"2024-09-25T12:24:46+05:30\"}\n",
      "{\"action\":\"lsm_recover_from_active_wal_success\",\"class\":\"Article\",\"index\":\"article\",\"level\":\"info\",\"msg\":\"successfully recovered from write-ahead-log\",\"path\":\"/Users/vishwasgowda/.local/share/weaviate/article/PHiJNusYv2bT/lsm/property_title/segment-1727247230533512000.wal\",\"shard\":\"PHiJNusYv2bT\",\"time\":\"2024-09-25T12:24:46+05:30\"}\n",
      "{\"action\":\"lsm_recover_from_active_wal\",\"class\":\"Article\",\"index\":\"article\",\"level\":\"warning\",\"msg\":\"active write-ahead-log found. Did weaviate crash prior to this or the tenant on/loaded from the cloud? Trying to recover...\",\"path\":\"/Users/vishwasgowda/.local/share/weaviate/article/PHiJNusYv2bT/lsm/property_title_searchable/segment-1727247230533664000\",\"shard\":\"PHiJNusYv2bT\",\"time\":\"2024-09-25T12:24:46+05:30\"}\n",
      "{\"action\":\"lsm_recover_from_active_wal_success\",\"class\":\"Article\",\"index\":\"article\",\"level\":\"info\",\"msg\":\"successfully recovered from write-ahead-log\",\"path\":\"/Users/vishwasgowda/.local/share/weaviate/article/PHiJNusYv2bT/lsm/property_title_searchable/segment-1727247230533664000.wal\",\"shard\":\"PHiJNusYv2bT\",\"time\":\"2024-09-25T12:24:46+05:30\"}\n",
      "{\"action\":\"lsm_recover_from_active_wal\",\"class\":\"Article\",\"index\":\"article\",\"level\":\"warning\",\"msg\":\"active write-ahead-log found. Did weaviate crash prior to this or the tenant on/loaded from the cloud? Trying to recover...\",\"path\":\"/Users/vishwasgowda/.local/share/weaviate/article/PHiJNusYv2bT/lsm/property_body/segment-1727247230533828000\",\"shard\":\"PHiJNusYv2bT\",\"time\":\"2024-09-25T12:24:46+05:30\"}\n",
      "{\"action\":\"lsm_recover_from_active_wal_success\",\"class\":\"Article\",\"index\":\"article\",\"level\":\"info\",\"msg\":\"successfully recovered from write-ahead-log\",\"path\":\"/Users/vishwasgowda/.local/share/weaviate/article/PHiJNusYv2bT/lsm/property_body/segment-1727247230533828000.wal\",\"shard\":\"PHiJNusYv2bT\",\"time\":\"2024-09-25T12:24:46+05:30\"}\n",
      "{\"action\":\"lsm_recover_from_active_wal\",\"class\":\"Article\",\"index\":\"article\",\"level\":\"warning\",\"msg\":\"active write-ahead-log found. Did weaviate crash prior to this or the tenant on/loaded from the cloud? Trying to recover...\",\"path\":\"/Users/vishwasgowda/.local/share/weaviate/article/PHiJNusYv2bT/lsm/property_body_searchable/segment-1727247230533980000\",\"shard\":\"PHiJNusYv2bT\",\"time\":\"2024-09-25T12:24:46+05:30\"}\n",
      "{\"action\":\"lsm_recover_from_active_wal_success\",\"class\":\"Article\",\"index\":\"article\",\"level\":\"info\",\"msg\":\"successfully recovered from write-ahead-log\",\"path\":\"/Users/vishwasgowda/.local/share/weaviate/article/PHiJNusYv2bT/lsm/property_body_searchable/segment-1727247230533980000.wal\",\"shard\":\"PHiJNusYv2bT\",\"time\":\"2024-09-25T12:24:46+05:30\"}\n",
      "{\"action\":\"lsm_recover_from_active_wal\",\"class\":\"Article\",\"index\":\"article\",\"level\":\"warning\",\"msg\":\"active write-ahead-log found. Did weaviate crash prior to this or the tenant on/loaded from the cloud? Trying to recover...\",\"path\":\"/Users/vishwasgowda/.local/share/weaviate/article/PHiJNusYv2bT/lsm/property_date/segment-1727247230534124000\",\"shard\":\"PHiJNusYv2bT\",\"time\":\"2024-09-25T12:24:46+05:30\"}\n",
      "{\"action\":\"lsm_recover_from_active_wal_success\",\"class\":\"Article\",\"index\":\"article\",\"level\":\"info\",\"msg\":\"successfully recovered from write-ahead-log\",\"path\":\"/Users/vishwasgowda/.local/share/weaviate/article/PHiJNusYv2bT/lsm/property_date/segment-1727247230534124000.wal\",\"shard\":\"PHiJNusYv2bT\",\"time\":\"2024-09-25T12:24:46+05:30\"}\n",
      "{\"action\":\"lsm_recover_from_active_wal\",\"class\":\"Article\",\"index\":\"article\",\"level\":\"warning\",\"msg\":\"active write-ahead-log found. Did weaviate crash prior to this or the tenant on/loaded from the cloud? Trying to recover...\",\"path\":\"/Users/vishwasgowda/.local/share/weaviate/article/PHiJNusYv2bT/lsm/property_category/segment-1727247230534291000\",\"shard\":\"PHiJNusYv2bT\",\"time\":\"2024-09-25T12:24:46+05:30\"}\n",
      "{\"action\":\"lsm_recover_from_active_wal_success\",\"class\":\"Article\",\"index\":\"article\",\"level\":\"info\",\"msg\":\"successfully recovered from write-ahead-log\",\"path\":\"/Users/vishwasgowda/.local/share/weaviate/article/PHiJNusYv2bT/lsm/property_category/segment-1727247230534291000.wal\",\"shard\":\"PHiJNusYv2bT\",\"time\":\"2024-09-25T12:24:46+05:30\"}\n",
      "{\"action\":\"lsm_recover_from_active_wal\",\"class\":\"Article\",\"index\":\"article\",\"level\":\"warning\",\"msg\":\"active write-ahead-log found. Did weaviate crash prior to this or the tenant on/loaded from the cloud? Trying to recover...\",\"path\":\"/Users/vishwasgowda/.local/share/weaviate/article/PHiJNusYv2bT/lsm/property_category_searchable/segment-1727247230534438000\",\"shard\":\"PHiJNusYv2bT\",\"time\":\"2024-09-25T12:24:46+05:30\"}\n",
      "{\"action\":\"lsm_recover_from_active_wal_success\",\"class\":\"Article\",\"index\":\"article\",\"level\":\"info\",\"msg\":\"successfully recovered from write-ahead-log\",\"path\":\"/Users/vishwasgowda/.local/share/weaviate/article/PHiJNusYv2bT/lsm/property_category_searchable/segment-1727247230534438000.wal\",\"shard\":\"PHiJNusYv2bT\",\"time\":\"2024-09-25T12:24:46+05:30\"}\n",
      "{\"action\":\"lsm_recover_from_active_wal\",\"class\":\"Article\",\"index\":\"article\",\"level\":\"warning\",\"msg\":\"active write-ahead-log found. Did weaviate crash prior to this or the tenant on/loaded from the cloud? Trying to recover...\",\"path\":\"/Users/vishwasgowda/.local/share/weaviate/article/PHiJNusYv2bT/lsm/property_author/segment-1727247230534981000\",\"shard\":\"PHiJNusYv2bT\",\"time\":\"2024-09-25T12:24:46+05:30\"}\n",
      "{\"action\":\"lsm_recover_from_active_wal_success\",\"class\":\"Article\",\"index\":\"article\",\"level\":\"info\",\"msg\":\"successfully recovered from write-ahead-log\",\"path\":\"/Users/vishwasgowda/.local/share/weaviate/article/PHiJNusYv2bT/lsm/property_author/segment-1727247230534981000.wal\",\"shard\":\"PHiJNusYv2bT\",\"time\":\"2024-09-25T12:24:46+05:30\"}\n",
      "{\"action\":\"lsm_recover_from_active_wal\",\"class\":\"Article\",\"index\":\"article\",\"level\":\"warning\",\"msg\":\"active write-ahead-log found. Did weaviate crash prior to this or the tenant on/loaded from the cloud? Trying to recover...\",\"path\":\"/Users/vishwasgowda/.local/share/weaviate/article/PHiJNusYv2bT/lsm/property_author_searchable/segment-1727247230535123000\",\"shard\":\"PHiJNusYv2bT\",\"time\":\"2024-09-25T12:24:46+05:30\"}\n",
      "{\"action\":\"lsm_recover_from_active_wal_success\",\"class\":\"Article\",\"index\":\"article\",\"level\":\"info\",\"msg\":\"successfully recovered from write-ahead-log\",\"path\":\"/Users/vishwasgowda/.local/share/weaviate/article/PHiJNusYv2bT/lsm/property_author_searchable/segment-1727247230535123000.wal\",\"shard\":\"PHiJNusYv2bT\",\"time\":\"2024-09-25T12:24:46+05:30\"}\n",
      "{\"action\":\"lsm_recover_from_active_wal\",\"class\":\"Article\",\"index\":\"article\",\"level\":\"warning\",\"msg\":\"active write-ahead-log found. Did weaviate crash prior to this or the tenant on/loaded from the cloud? Trying to recover...\",\"path\":\"/Users/vishwasgowda/.local/share/weaviate/article/PHiJNusYv2bT/lsm/property__id/segment-1727247230534599000\",\"shard\":\"PHiJNusYv2bT\",\"time\":\"2024-09-25T12:24:46+05:30\"}\n",
      "{\"action\":\"lsm_recover_from_active_wal_success\",\"class\":\"Article\",\"index\":\"article\",\"level\":\"info\",\"msg\":\"successfully recovered from write-ahead-log\",\"path\":\"/Users/vishwasgowda/.local/share/weaviate/article/PHiJNusYv2bT/lsm/property__id/segment-1727247230534599000.wal\",\"shard\":\"PHiJNusYv2bT\",\"time\":\"2024-09-25T12:24:46+05:30\"}\n",
      "{\"action\":\"hnsw_prefill_cache_async\",\"level\":\"info\",\"msg\":\"not waiting for vector cache prefill, running in background\",\"time\":\"2024-09-25T12:24:46+05:30\",\"wait_for_cache_prefill\":false}\n",
      "{\"level\":\"info\",\"msg\":\"Completed loading shard article_PHiJNusYv2bT in 74.413083ms\",\"time\":\"2024-09-25T12:24:46+05:30\"}\n",
      "{\"action\":\"hnsw_vector_cache_prefill\",\"count\":3000,\"index_id\":\"main\",\"level\":\"info\",\"limit\":1000000000000,\"msg\":\"prefilled vector cache\",\"time\":\"2024-09-25T12:24:46+05:30\",\"took\":726833}\n"
     ]
    },
    {
     "name": "stdout",
     "output_type": "stream",
     "text": [
      "ID: 235959584379154997552071134050082173029\n",
      "Metadata: [{'distance': 0.34}, {'certainty': 0.83}]\n",
      "Title: Machine Learning Basics\n",
      "Date: 2023-03-05 00:00:00+00:00\n",
      "Category: ML\n",
      "Author: TechCrunch\n",
      "Body: Machine learning is a branch of artificial intelligence that focuses on building systems that [...]\n",
      "\n",
      "ID: 66177066615778596449200477828369435490\n",
      "Metadata: [{'distance': 0.36}, {'certainty': 0.82}]\n",
      "Title: Machine Learning\n",
      "Date: 2021-10-01 00:00:00+00:00\n",
      "Category: ML\n",
      "Author: Towards Data Science\n",
      "Body: Machine learning is a subset of artificial intelligence (AI) that provides systems the ability [...]\n",
      "\n",
      "ID: 37499734945959922522607306974367251245\n",
      "Metadata: [{'distance': 0.48}, {'certainty': 0.76}]\n",
      "Title: Introduction to Deep Learning\n",
      "Date: 2022-07-10 00:00:00+00:00\n",
      "Category: ML\n",
      "Author: Towards Data Science\n",
      "Body: Deep learning is a subset of machine learning that uses neural networks with many layers to [...]\n",
      "\n"
     ]
    }
   ],
   "source": [
    "from weaviate.classes.query import Filter\n",
    "from datetime import datetime, timezone\n",
    "from weaviate.classes.query import MetadataQuery\n",
    "\n",
    "def retrieve(params: ArticleQuery):\n",
    "    start_date = datetime.strptime(params.date_range.start_date, \"%Y-%m-%d\").replace(tzinfo=timezone.utc) if params.date_range.start_date else None\n",
    "    end_date = datetime.strptime(params.date_range.end, \"%Y-%m-%d\").replace(tzinfo=timezone.utc) if params.date_range.end else None\n",
    "\n",
    "    # Collect filters in a list\n",
    "    filters_list = []\n",
    "    if params.author:\n",
    "        filters_list.append(Filter.by_property(\"author\").equal(params.author.value))\n",
    "    if params.category:\n",
    "        filters_list.append(Filter.by_property(\"category\").equal(params.category.value))\n",
    "    if start_date:\n",
    "        filters_list.append(Filter.by_property(\"date\").greater_than(start_date))\n",
    "    if end_date:\n",
    "        filters_list.append(Filter.by_property(\"date\").less_than(end_date))\n",
    "\n",
    "    # Combine all filters using the AND (&) operator, if any filters exist\n",
    "    filters = None\n",
    "    if filters_list:\n",
    "        filters = filters_list[0]\n",
    "        for f in filters_list[1:]:\n",
    "            filters = filters & f\n",
    "            \n",
    "    chunks = article.query.near_text(\n",
    "        query=params.rewritten_query,\n",
    "        filters=filters if filters else None,\n",
    "        return_metadata=MetadataQuery(distance=True, certainty=True),\n",
    "        limit=3\n",
    "    )\n",
    "\n",
    "    return chunks.objects\n",
    "\n",
    "print(f\"Query: {response1}\\n\")\n",
    "chunks = retrieve(response1)\n",
    "print_objects(chunks)\n"
   ]
  },
  {
   "cell_type": "code",
   "execution_count": 10,
   "metadata": {},
   "outputs": [
    {
     "name": "stdout",
     "output_type": "stream",
     "text": [
      "Query: rewritten_query='cybersecurity 2022' author=None category=<ArticleCategory.CYBERSECURITY: 'Cybersecurity'> date_range=DateRange(start_date='2022-01-01', end='2022-12-31')\n",
      "\n",
      "ID: 111770961923860747703082376322890795880\n",
      "Metadata: [{'distance': 0.48}, {'certainty': 0.76}]\n",
      "Title: The Importance of Cybersecurity\n",
      "Date: 2022-12-12 00:00:00+00:00\n",
      "Category: Cybersecurity\n",
      "Author: Krebs on Security\n",
      "Body: Cybersecurity involves protecting computer systems and networks from information disclosure, [...]\n",
      "\n",
      "ID: 9620050475437321785307488639092868804\n",
      "Metadata: [{'distance': 0.55}, {'certainty': 0.72}]\n",
      "Title: Cryptography\n",
      "Date: 2022-08-25 00:00:00+00:00\n",
      "Category: Cybersecurity\n",
      "Author: TechCrunch\n",
      "Body: Cryptography is the study and practice of securing communication and data from unauthorized [...]\n",
      "\n"
     ]
    }
   ],
   "source": [
    "print(f\"Query: {response2}\\n\")\n",
    "chunks = retrieve(response2)\n",
    "print_objects(chunks)"
   ]
  },
  {
   "cell_type": "code",
   "execution_count": 11,
   "metadata": {},
   "outputs": [
    {
     "name": "stdout",
     "output_type": "stream",
     "text": [
      "Query: rewritten_query='articles from Towards Data Science in 2022' author=<Author.TOWARDS_DATA_SCIENCE: 'Towards Data Science'> category=None date_range=DateRange(start_date='2022-01-01', end='2022-12-31')\n",
      "\n",
      "ID: 37499734945959922522607306974367251245\n",
      "Metadata: [{'distance': 0.55}, {'certainty': 0.73}]\n",
      "Title: Introduction to Deep Learning\n",
      "Date: 2022-07-10 00:00:00+00:00\n",
      "Category: ML\n",
      "Author: Towards Data Science\n",
      "Body: Deep learning is a subset of machine learning that uses neural networks with many layers to [...]\n",
      "\n"
     ]
    }
   ],
   "source": [
    "print(f\"Query: {response3}\\n\")\n",
    "chunks = retrieve(response3)\n",
    "print_objects(chunks)"
   ]
  }
 ],
 "metadata": {
  "kernelspec": {
   "display_name": ".venv",
   "language": "python",
   "name": "python3"
  },
  "language_info": {
   "codemirror_mode": {
    "name": "ipython",
    "version": 3
   },
   "file_extension": ".py",
   "mimetype": "text/x-python",
   "name": "python",
   "nbconvert_exporter": "python",
   "pygments_lexer": "ipython3",
   "version": "3.11.1"
  }
 },
 "nbformat": 4,
 "nbformat_minor": 2
}
