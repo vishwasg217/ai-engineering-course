{
 "cells": [
  {
   "cell_type": "markdown",
   "metadata": {},
   "source": [
    "# Retrieval Strategies\n",
    "\n",
    "Retrieval Strategies are the different techniques that are used to retrieve the relevant chunks from a document. \n",
    "\n",
    "1. **Vector Similarity Search**: As discussed previously, by calculating metrics such as cosine similarity or euclidean distance, between the query and chunks, we can retrieve the most similar ones.\n",
    "2. **Keyword(BM25) Search**: By using the BM25 algorithm, we can retrieve the chunks that contain the most relevant keywords. This is a very common technique used in search engines.\n",
    "3. **Hybrid Search**: A combination of the above two techniques."
   ]
  },
  {
   "cell_type": "markdown",
   "metadata": {},
   "source": [
    "## About BM25 Search\n",
    "\n",
    "### Intro to BM25\n",
    "\n",
    "BM25 is a popular algorithm used for information retrieval, especially in search engines and document ranking systems. It's part of a family of algorithms called **\"probabilistic information retrieval models\"**, designed to rank documents based on their relevance to a user's query. When you enter a query in a search engine, BM25 helps determine which documents (e.g., web pages, articles) are most likely to contain the information you’re looking for. It’s particularly useful when dealing with unstructured data like text, where documents aren’t tagged or labeled, and relevance must be inferred from the content itself.\n",
    "\n",
    "BM25 stands out because it considers **term frequency** (how often a word appears in a document) and **inverse document frequency** (how rare or common that word is across all documents). By balancing these factors, BM25 effectively finds documents that are not just packed with the query terms but are also meaningful and relevant in context.\n",
    "\n",
    "### How BM25 Works\n",
    "\n",
    "At its core, BM25 scores documents based on how well they match a query. It does this by analyzing the terms in both the query and the documents, assessing the importance of each term, and then assigning a relevance score to each document. To understand BM25 better, let's break down the process step by step:\n",
    "\n",
    "#### 1. Term Frequency (TF):\n",
    "BM25 looks at how often each term in the query appears in a document. This is called **term frequency**. The idea is simple: the more frequently a term appears in a document, the more relevant that document might be for the query. However, BM25 doesn’t just count the raw number of occurrences—it uses a formula that gives diminishing returns to higher frequencies. In other words, if a word appears once or twice, it might significantly boost the document’s relevance, but if it appears 100 times, it’s not going to make the document 100 times more relevant. This prevents documents that repeat a keyword excessively from dominating the results.\n",
    "\n",
    "Example: \n",
    "Let's say the query is `machine learning`, and Document A mentions \"machine\" and \"learning\" three times each, while Document B mentions \"machine\" once and \"learning\" twice. BM25 will score Document A higher based on term frequency alone because it contains both terms more often. But term frequency is just one part of the formula.\n",
    "\n",
    "#### 2. Inverse Document Frequency (IDF):\n",
    "BM25 also considers how common or rare a term is across the entire set of documents. This is called **inverse document frequency**. If a word appears in almost every document (e.g., \"the\", \"is\"), it’s not very useful for distinguishing relevant documents from irrelevant ones. On the other hand, if a word is rare (like \"neural networks\"), it’s likely to be more informative and relevant when it does appear.\n",
    "\n",
    "BM25 assigns higher importance to terms that are rare across the document collection. This helps ensure that the algorithm doesn’t just return documents filled with common terms, but rather those that include more unique and relevant terms.\n",
    "\n",
    "Example:\n",
    "If \"machine\" appears in 90% of documents and \"learning\" appears in only 10%, BM25 will assign a higher weight to \"learning\" because it’s less common and more likely to help identify relevant documents.\n",
    "\n",
    "#### 3. Document Length Normalization:\n",
    "Longer documents are more likely to contain any given term simply because they have more content. To avoid bias toward longer documents, BM25 normalizes the term frequency by the document length. This ensures that shorter documents with concentrated, relevant information aren’t penalized.\n",
    "\n",
    "Example:\n",
    "If Document A has 200 words and Document B has 1000 words, but both mention \"machine learning\" 5 times, BM25 will score Document A higher because its shorter length suggests that the term \"machine learning\" is more central to its content.\n",
    "\n",
    "#### Example Query Walkthrough:\n",
    "\n",
    "Let’s say the query is `\"deep learning for image classification\"`, and you have three documents:\n",
    "\n",
    "- **Document 1**: A short blog post discussing image classification with neural networks and deep learning mentioned twice.\n",
    "- **Document 2**: A lengthy research paper on deep learning that mentions deep learning multiple times but doesn’t focus on image classification specifically.\n",
    "- **Document 3**: A general overview of machine learning, which mentions image classification briefly but without any focus on deep learning.\n",
    "\n",
    "BM25 will first check how many times each query term appears in the documents. It will find that Document 2 mentions \"deep learning\" many times, so it will score well based on term frequency. However, Document 1 will also score highly because although it mentions \"deep learning\" fewer times, it’s a shorter document where the term is more central. Meanwhile, Document 3 will score lower because, even though it might mention image classification, it doesn’t cover deep learning well enough to be relevant.\n",
    "\n",
    "Next, BM25 will apply inverse document frequency. If \"deep learning\" is a common term across all documents but \"image classification\" is rare, Document 1 and Document 2 will be weighted more heavily for mentioning \"image classification.\" Document 3, which only touches on image classification, will be further penalized for lacking depth on the subject.\n",
    "\n",
    "Lastly, BM25 adjusts for document length. Document 1 is shorter and to the point, so it gets an extra boost, while Document 2, despite being lengthy, will only get marginally higher scores for repeating terms more often.\n",
    "\n",
    "In the end, BM25 will likely rank Document 1 as the most relevant, followed by Document 2, with Document 3 trailing behind.\n",
    "\n",
    "#### Final BM25 Score Calculation:\n",
    "BM25 combines all the factors—term frequency, inverse document frequency, and document length normalization—into a final score. The higher the BM25 score, the more relevant the document is to the query.\n",
    "\n",
    "What’s great about BM25 is that it’s both simple and highly effective. It doesn’t just focus on raw counts of query terms; it carefully weighs how often terms appear, how common they are across all documents, and whether a term’s appearance is significant in the context of the document’s length.\n",
    "\n",
    "### Comparing BM25 with Vector Similarity Search\n",
    "\n",
    "While BM25 focuses on keyword matching (how relevant a document is based on exact words), **vector similarity search** looks at the semantic meaning behind the text. In vector search, documents and queries are represented as vectors in a continuous space, and similarity is measured based on the distance between them, usually using **cosine similarity** or **dot product**. This allows vector search to find documents with similar meanings, even if the words don’t exactly match.\n",
    "\n",
    "**BM25 Advantages**: \n",
    "- Works well with small datasets.\n",
    "- Doesn’t require a complex model.\n",
    "- Easier to explain and debug.\n",
    "\n",
    "**Vector Search Advantages**:\n",
    "- Captures semantic meaning, not just exact word matches.\n",
    "- Works better for complex queries where words might not exactly match the document terms.\n",
    "\n",
    "Both methods have their place, but BM25 is particularly useful when you want precise keyword matching and have limited computational resources."
   ]
  },
  {
   "cell_type": "markdown",
   "metadata": {},
   "source": [
    "### Setup Weaviate Client"
   ]
  },
  {
   "cell_type": "code",
   "execution_count": 62,
   "metadata": {},
   "outputs": [
    {
     "name": "stderr",
     "output_type": "stream",
     "text": [
      "{\"action\":\"startup\",\"default_vectorizer_module\":\"none\",\"level\":\"info\",\"msg\":\"the default vectorizer modules is set to \\\"none\\\", as a result all new schema classes without an explicit vectorizer setting, will use this vectorizer\",\"time\":\"2024-09-23T11:32:44+05:30\"}\n",
      "{\"action\":\"startup\",\"auto_schema_enabled\":true,\"level\":\"info\",\"msg\":\"auto schema enabled setting is set to \\\"true\\\"\",\"time\":\"2024-09-23T11:32:44+05:30\"}\n",
      "{\"level\":\"info\",\"msg\":\"No resource limits set, weaviate will use all available memory and CPU. To limit resources, set LIMIT_RESOURCES=true\",\"time\":\"2024-09-23T11:32:44+05:30\"}\n",
      "{\"level\":\"info\",\"msg\":\"module offload-s3 is enabled\",\"time\":\"2024-09-23T11:32:44+05:30\"}\n",
      "{\"level\":\"warning\",\"msg\":\"Multiple vector spaces are present, GraphQL Explore and REST API list objects endpoint module include params has been disabled as a result.\",\"time\":\"2024-09-23T11:32:44+05:30\"}\n",
      "{\"level\":\"info\",\"msg\":\"open cluster service\",\"servers\":{\"Embedded_at_8079\":55989},\"time\":\"2024-09-23T11:32:44+05:30\"}\n",
      "{\"address\":\"192.168.155.215:55990\",\"level\":\"info\",\"msg\":\"starting cloud rpc server ...\",\"time\":\"2024-09-23T11:32:44+05:30\"}\n",
      "{\"level\":\"info\",\"msg\":\"starting raft sub-system ...\",\"time\":\"2024-09-23T11:32:44+05:30\"}\n",
      "{\"address\":\"192.168.155.215:55989\",\"level\":\"info\",\"msg\":\"tcp transport\",\"tcpMaxPool\":3,\"tcpTimeout\":10000000000,\"time\":\"2024-09-23T11:32:44+05:30\"}\n",
      "{\"level\":\"info\",\"msg\":\"loading local db\",\"time\":\"2024-09-23T11:32:44+05:30\"}\n",
      "{\"level\":\"info\",\"msg\":\"local DB successfully loaded\",\"time\":\"2024-09-23T11:32:44+05:30\"}\n",
      "{\"level\":\"info\",\"msg\":\"schema manager loaded\",\"n\":0,\"time\":\"2024-09-23T11:32:44+05:30\"}\n",
      "{\"level\":\"info\",\"metadata_only_voters\":false,\"msg\":\"construct a new raft node\",\"name\":\"Embedded_at_8079\",\"time\":\"2024-09-23T11:32:44+05:30\"}\n",
      "{\"id\":\"2-3-1726727697440\",\"last-index\":3,\"last-term\":2,\"level\":\"info\",\"msg\":\"starting restore from snapshot\",\"size-in-bytes\":21578,\"time\":\"2024-09-23T11:32:44+05:30\"}\n",
      "{\"level\":\"info\",\"msg\":\"restoring schema from snapshot\",\"time\":\"2024-09-23T11:32:44+05:30\"}\n",
      "{\"level\":\"info\",\"msg\":\"successfully restored schema from snapshot\",\"time\":\"2024-09-23T11:32:44+05:30\"}\n",
      "{\"last_applied_index\":0,\"last_snapshot_index\":3,\"last_store_log_applied_index\":34,\"level\":\"info\",\"msg\":\"load local db from snapshot\",\"time\":\"2024-09-23T11:32:44+05:30\"}\n",
      "{\"action\":\"\",\"id\":\"2-3-1726727697440\",\"last-index\":3,\"last-term\":2,\"level\":\"info\",\"msg\":\"snapshot restore progress\",\"percent-complete\":\"[100.00]%\",\"read-bytes\":21578,\"size-in-bytes\":21578,\"time\":\"2024-09-23T11:32:44+05:30\"}\n",
      "{\"id\":\"2-3-1726727697440\",\"last-index\":3,\"last-term\":2,\"level\":\"info\",\"msg\":\"restored from snapshot\",\"size-in-bytes\":21578,\"time\":\"2024-09-23T11:32:44+05:30\"}\n",
      "{\"action\":\"raft\",\"index\":27,\"level\":\"info\",\"msg\":\"raft initial configuration\",\"servers\":\"[[{Suffrage:Voter ID:Embedded_at_8079 Address:192.168.155.215:64412}]]\",\"time\":\"2024-09-23T11:32:44+05:30\"}\n",
      "{\"last_snapshot_index\":3,\"last_store_applied_index\":3,\"last_store_log_applied_index\":34,\"level\":\"info\",\"msg\":\"raft node constructed\",\"raft_applied_index\":3,\"raft_last_index\":34,\"time\":\"2024-09-23T11:32:44+05:30\"}\n",
      "{\"action\":\"raft\",\"follower\":{},\"leader-address\":\"\",\"leader-id\":\"\",\"level\":\"info\",\"msg\":\"raft entering follower state\",\"time\":\"2024-09-23T11:32:44+05:30\"}\n",
      "{\"action\":\"bootstrap\",\"error\":\"could not join a cluster from [192.168.155.215:55989]\",\"level\":\"warning\",\"msg\":\"failed to join cluster, will notify next if voter\",\"servers\":[\"192.168.155.215:55989\"],\"time\":\"2024-09-23T11:32:46+05:30\",\"voter\":true}\n",
      "{\"action\":\"bootstrap\",\"candidates\":[{\"Suffrage\":0,\"ID\":\"Embedded_at_8079\",\"Address\":\"192.168.155.215:55989\"}],\"level\":\"info\",\"msg\":\"starting cluster bootstrapping\",\"time\":\"2024-09-23T11:32:46+05:30\"}\n",
      "{\"action\":\"bootstrap\",\"error\":\"bootstrap only works on new clusters\",\"level\":\"error\",\"msg\":\"could not bootstrapping cluster\",\"time\":\"2024-09-23T11:32:46+05:30\"}\n",
      "{\"action\":\"bootstrap\",\"level\":\"info\",\"msg\":\"notified peers this node is ready to join as voter\",\"servers\":[\"192.168.155.215:55989\"],\"time\":\"2024-09-23T11:32:46+05:30\"}\n",
      "{\"action\":\"raft\",\"last-leader-addr\":\"\",\"last-leader-id\":\"\",\"level\":\"warning\",\"msg\":\"raft heartbeat timeout reached, starting election\",\"time\":\"2024-09-23T11:32:46+05:30\"}\n",
      "{\"action\":\"raft\",\"level\":\"info\",\"msg\":\"raft entering candidate state\",\"node\":{},\"term\":11,\"time\":\"2024-09-23T11:32:46+05:30\"}\n",
      "{\"action\":\"raft\",\"level\":\"info\",\"msg\":\"raft election won\",\"tally\":1,\"term\":11,\"time\":\"2024-09-23T11:32:46+05:30\"}\n",
      "{\"action\":\"raft\",\"leader\":{},\"level\":\"info\",\"msg\":\"raft entering leader state\",\"time\":\"2024-09-23T11:32:46+05:30\"}\n",
      "{\"level\":\"info\",\"msg\":\"reload local db: update schema ...\",\"time\":\"2024-09-23T11:32:46+05:30\"}\n",
      "{\"index\":\"LlamaIndex\",\"level\":\"info\",\"msg\":\"reload local index\",\"time\":\"2024-09-23T11:32:46+05:30\"}\n",
      "{\"docker_image_tag\":\"unknown\",\"level\":\"info\",\"msg\":\"configured versions\",\"server_version\":\"1.26.1\",\"time\":\"2024-09-23T11:32:46+05:30\"}\n",
      "{\"action\":\"grpc_startup\",\"level\":\"info\",\"msg\":\"grpc server listening at [::]:50050\",\"time\":\"2024-09-23T11:32:46+05:30\"}\n",
      "{\"address\":\"192.168.155.215:55989\",\"level\":\"info\",\"msg\":\"current Leader\",\"time\":\"2024-09-23T11:32:46+05:30\"}\n",
      "{\"action\":\"restapi_management\",\"docker_image_tag\":\"unknown\",\"level\":\"info\",\"msg\":\"Serving weaviate at http://127.0.0.1:8079\",\"time\":\"2024-09-23T11:32:46+05:30\"}\n",
      "{\"index\":\"Article\",\"level\":\"info\",\"msg\":\"reload local index\",\"time\":\"2024-09-23T11:32:46+05:30\"}\n",
      "{\"action\":\"telemetry_push\",\"level\":\"info\",\"msg\":\"telemetry started\",\"payload\":\"\\u0026{MachineID:b6cb58ba-61e4-40db-b32e-75d7acb9aaa6 Type:INIT Version:1.26.1 NumObjects:0 OS:darwin Arch:arm64 UsedModules:[text2vec-openai]}\",\"time\":\"2024-09-23T11:32:47+05:30\"}\n",
      "{\"action\":\"bootstrap\",\"level\":\"info\",\"msg\":\"node reporting ready, node has probably recovered cluster from raft config. Exiting bootstrap process\",\"time\":\"2024-09-23T11:32:47+05:30\"}\n"
     ]
    }
   ],
   "source": [
    "import weaviate\n",
    "from dotenv import load_dotenv\n",
    "import os\n",
    "\n",
    "load_dotenv(\"./../.env\")\n",
    "\n",
    "client = weaviate.connect_to_embedded(\n",
    "    headers={\n",
    "        \"X-OpenAI-Api-Key\": os.getenv(\"OPENAI_API_KEY\")\n",
    "    }\n",
    ")"
   ]
  },
  {
   "cell_type": "markdown",
   "metadata": {},
   "source": [
    "### Create Collection"
   ]
  },
  {
   "cell_type": "code",
   "execution_count": 63,
   "metadata": {},
   "outputs": [
    {
     "name": "stderr",
     "output_type": "stream",
     "text": [
      "{\"action\":\"load_all_shards\",\"level\":\"error\",\"msg\":\"failed to load all shards: context canceled\",\"time\":\"2024-09-23T11:32:48+05:30\"}\n"
     ]
    },
    {
     "data": {
      "text/plain": [
       "<weaviate.collections.collection.sync.Collection at 0x10f55b050>"
      ]
     },
     "execution_count": 63,
     "metadata": {},
     "output_type": "execute_result"
    }
   ],
   "source": [
    "from weaviate.classes.config import Property, DataType, Configure\n",
    "\n",
    "if client.collections.exists(\"Article\"):\n",
    "    client.collections.delete(\"Article\")\n",
    "\n",
    "client.collections.create(\n",
    "    \"Article\",\n",
    "    properties=[\n",
    "        Property(name=\"title\", data_type=DataType.TEXT),\n",
    "        Property(name=\"body\", data_type=DataType.TEXT, vectorize_property_name=True),\n",
    "        Property(name=\"date\", data_type=DataType.DATE),\n",
    "        Property(name=\"category\", data_type=DataType.TEXT),\n",
    "    ],\n",
    "    vectorizer_config=Configure.Vectorizer.text2vec_openai(\n",
    "        model=\"text-embedding-3-small\"\n",
    "    )\n",
    ")"
   ]
  },
  {
   "cell_type": "markdown",
   "metadata": {},
   "source": [
    "### Insert Documents"
   ]
  },
  {
   "cell_type": "code",
   "execution_count": 64,
   "metadata": {},
   "outputs": [
    {
     "name": "stderr",
     "output_type": "stream",
     "text": [
      "{\"level\":\"warning\",\"msg\":\"prop len tracker file /Users/vishwasgowda/.local/share/weaviate/article/RLgFbhxzVDZK/proplengths does not exist, creating new tracker\",\"time\":\"2024-09-23T11:32:48+05:30\"}\n",
      "{\"action\":\"hnsw_prefill_cache_async\",\"level\":\"info\",\"msg\":\"not waiting for vector cache prefill, running in background\",\"time\":\"2024-09-23T11:32:48+05:30\",\"wait_for_cache_prefill\":false}\n",
      "{\"action\":\"hnsw_vector_cache_prefill\",\"count\":1000,\"index_id\":\"main\",\"level\":\"info\",\"limit\":1000000000000,\"msg\":\"prefilled vector cache\",\"time\":\"2024-09-23T11:32:48+05:30\",\"took\":89541}\n",
      "{\"level\":\"info\",\"msg\":\"Created shard article_RLgFbhxzVDZK in 5.301833ms\",\"time\":\"2024-09-23T11:32:48+05:30\"}\n"
     ]
    }
   ],
   "source": [
    "import json\n",
    "\n",
    "with open(\"./articles.json\", \"r\") as f:\n",
    "    articles_json = json.load(f)\n",
    "\n",
    "article = client.collections.get('Article')\n",
    "\n",
    "\n",
    "with article.batch.dynamic() as batch:  # inserting objects to collection in batch\n",
    "    for art in articles_json:\n",
    "        batch.add_object(art)\n"
   ]
  },
  {
   "cell_type": "code",
   "execution_count": 65,
   "metadata": {},
   "outputs": [
    {
     "data": {
      "text/plain": [
       "13"
      ]
     },
     "execution_count": 65,
     "metadata": {},
     "output_type": "execute_result"
    }
   ],
   "source": [
    "item_count = 0\n",
    "for item in article.iterator():\n",
    "    item_count += 1\n",
    "item_count"
   ]
  },
  {
   "cell_type": "markdown",
   "metadata": {},
   "source": [
    "### Vector Similarity Search\n",
    "\n",
    "We've covered this previously as well, but let's repeat the steps for a quick refresher."
   ]
  },
  {
   "cell_type": "code",
   "execution_count": 75,
   "metadata": {},
   "outputs": [],
   "source": [
    "import textwrap\n",
    "\n",
    "def print_objects(objects):\n",
    "    \"\"\"\n",
    "        a function to print the retrieved objects\n",
    "    \"\"\"\n",
    "    for obj in objects:\n",
    "        print(f\"ID: {obj.uuid.int}\")\n",
    "        metadata = [{k: round(v, 2) if isinstance(v, float) else v} for k, v in obj.metadata.__dict__.items() if v is not None]\n",
    "        print(f\"Metadata: {metadata}\")\n",
    "        print(f\"Title: {obj.properties['title']}\")\n",
    "        print(f\"Date: {obj.properties['date']}\")\n",
    "        print(f\"Category: {obj.properties['category']}\")\n",
    "        print(f\"Author: {obj.properties['author']}\")\n",
    "        print(f\"Body: {textwrap.shorten(obj.properties['body'], width=100)}\")\n",
    "        print()"
   ]
  },
  {
   "cell_type": "code",
   "execution_count": 76,
   "metadata": {},
   "outputs": [
    {
     "name": "stdout",
     "output_type": "stream",
     "text": [
      "ID: 290510953615380066757077280396556319824\n",
      "Metadata: [{'distance': 0.39}, {'certainty': 0.81}]\n",
      "Title: Machine Learning\n",
      "Date: 2021-10-01 00:00:00+00:00\n",
      "Category: ML\n",
      "Author: Towards Data Science\n",
      "Body: Machine learning is a subset of artificial intelligence (AI) that provides systems the ability [...]\n",
      "\n",
      "ID: 151753684610208536323796683740283397757\n",
      "Metadata: [{'distance': 0.4}, {'certainty': 0.8}]\n",
      "Title: Machine Learning Basics\n",
      "Date: 2023-03-05 00:00:00+00:00\n",
      "Category: ML\n",
      "Author: Analytics Vidhya\n",
      "Body: Machine learning is a branch of artificial intelligence that focuses on building systems that [...]\n",
      "\n",
      "ID: 157521492403312658662470011970601017814\n",
      "Metadata: [{'distance': 0.5}, {'certainty': 0.75}]\n",
      "Title: Introduction to Deep Learning\n",
      "Date: 2022-07-10 00:00:00+00:00\n",
      "Category: ML\n",
      "Author: Towards Data Science\n",
      "Body: Deep learning is a subset of machine learning that uses neural networks with many layers to [...]\n",
      "\n"
     ]
    }
   ],
   "source": [
    "from weaviate.classes.query import MetadataQuery\n",
    "\n",
    "response = article.query.near_text(\n",
    "    query = \"What is machine learning?\",\n",
    "    limit=3,    # max no of chunks to be returned\n",
    "    return_metadata=MetadataQuery(distance=True, certainty=True),\n",
    "    include_vector=True\n",
    ")\n",
    "\n",
    "print_objects(response.objects)"
   ]
  },
  {
   "cell_type": "code",
   "execution_count": 77,
   "metadata": {},
   "outputs": [],
   "source": [
    "response = article.query.bm25(\n",
    "    query=\"What is machine learning?\",\n",
    ")"
   ]
  },
  {
   "cell_type": "markdown",
   "metadata": {},
   "source": [
    "We can limit the properties on which bm25 search is applied by providing the specific properties. We can even increase the importance of a property for the search a by a factor.\n",
    "\n",
    "BM25 search will be applied on these 3 properties while boosting the 'title' property by a facor of 2"
   ]
  },
  {
   "cell_type": "code",
   "execution_count": 78,
   "metadata": {},
   "outputs": [
    {
     "name": "stdout",
     "output_type": "stream",
     "text": [
      "ID: 290510953615380066757077280396556319824\n",
      "Metadata: [{'score': 1.27}, {'explain_score': ', BM25F_machine_propLength:39, BM25F_learning_frequency:4, BM25F_learning_propLength:39, BM25F_machine_frequency:4'}]\n",
      "Title: Machine Learning\n",
      "Date: 2021-10-01 00:00:00+00:00\n",
      "Category: ML\n",
      "Author: Towards Data Science\n",
      "Body: Machine learning is a subset of artificial intelligence (AI) that provides systems the ability [...]\n",
      "\n",
      "ID: 151753684610208536323796683740283397757\n",
      "Metadata: [{'score': 1.15}, {'explain_score': ', BM25F_machine_frequency:4, BM25F_machine_propLength:51, BM25F_learning_frequency:4, BM25F_learning_propLength:51'}]\n",
      "Title: Machine Learning Basics\n",
      "Date: 2023-03-05 00:00:00+00:00\n",
      "Category: ML\n",
      "Author: Analytics Vidhya\n",
      "Body: Machine learning is a branch of artificial intelligence that focuses on building systems that [...]\n",
      "\n",
      "ID: 138909255830429965420632981935136292337\n",
      "Metadata: [{'score': 0.6}, {'explain_score': ', BM25F_learning_propLength:38, BM25F_machine_frequency:1, BM25F_machine_propLength:38, BM25F_learning_frequency:1'}]\n",
      "Title: Algorithms\n",
      "Date: 2021-12-05 00:00:00+00:00\n",
      "Category: Programming\n",
      "Author: Towards Data Science\n",
      "Body: Algorithms are step-by-step instructions or rules designed to perform a task or solve a [...]\n",
      "\n"
     ]
    }
   ],
   "source": [
    "response = article.query.bm25(\n",
    "    query=\"what is machine learning?\",\n",
    "    query_properties=['body', 'title^2', 'category'] ,\n",
    "    return_metadata=MetadataQuery(score=True, explain_score=True), # metdata specific to BM25 search\n",
    "    limit=3\n",
    ")\n",
    "\n",
    "print_objects(response.objects)"
   ]
  },
  {
   "cell_type": "markdown",
   "metadata": {},
   "source": [
    "Let's breakdown the `explain_score` metadata for the first chunk:\n",
    "* `BM25F_machine_frequency`: 4: The word \"machine\" appears 4 times in the chunk.\n",
    "* `BM25F_machine_propLength`: 39: The property (e.g., the \"body\" or \"title\") in which \"machine\" appears has a length of 39 words.\n",
    "* `BM25F_learning_frequency`: 4: The word \"learning\" also appears 4 times in the chunk.\n",
    "* `BM25F_learning_propLength`: 39: Similar to \"machine\", the property where \"learning\" appears has a length of 39 words."
   ]
  },
  {
   "cell_type": "markdown",
   "metadata": {},
   "source": [
    "### Hybrid Search\n",
    "\n",
    "Hybrid Search is a combination of Vector Search and Keyword Search. The results from the two searches are combined based on a configurable weight "
   ]
  },
  {
   "cell_type": "code",
   "execution_count": 79,
   "metadata": {},
   "outputs": [
    {
     "name": "stdout",
     "output_type": "stream",
     "text": [
      "ID: 290510953615380066757077280396556319824\n",
      "Metadata: []\n",
      "Title: Machine Learning\n",
      "Date: 2021-10-01 00:00:00+00:00\n",
      "Category: ML\n",
      "Author: Towards Data Science\n",
      "Body: Machine learning is a subset of artificial intelligence (AI) that provides systems the ability [...]\n",
      "\n",
      "ID: 151753684610208536323796683740283397757\n",
      "Metadata: []\n",
      "Title: Machine Learning Basics\n",
      "Date: 2023-03-05 00:00:00+00:00\n",
      "Category: ML\n",
      "Author: Analytics Vidhya\n",
      "Body: Machine learning is a branch of artificial intelligence that focuses on building systems that [...]\n",
      "\n",
      "ID: 157521492403312658662470011970601017814\n",
      "Metadata: []\n",
      "Title: Introduction to Deep Learning\n",
      "Date: 2022-07-10 00:00:00+00:00\n",
      "Category: ML\n",
      "Author: Towards Data Science\n",
      "Body: Deep learning is a subset of machine learning that uses neural networks with many layers to [...]\n",
      "\n"
     ]
    }
   ],
   "source": [
    "response = article.query.hybrid(\n",
    "    query=\"what is machine learning?\",\n",
    "    limit=3\n",
    ")\n",
    "\n",
    "print_objects(response.objects)"
   ]
  },
  {
   "cell_type": "markdown",
   "metadata": {},
   "source": [
    "We can use the argument `alpha` to set the weightage for each search method.\n",
    "* An alpha of 1 is a pure vector search.\n",
    "* An alpha of 0 is a pure keyword search."
   ]
  },
  {
   "cell_type": "code",
   "execution_count": 80,
   "metadata": {},
   "outputs": [
    {
     "name": "stdout",
     "output_type": "stream",
     "text": [
      "ID: 290510953615380066757077280396556319824\n",
      "Metadata: [{'score': 1.0}, {'explain_score': '\\nHybrid (Result Set keyword,bm25) Document da8e5fdd-87c6-4b1e-9391-1a7e6ccb3c50: original score 1.009832, normalized score: 0.75 - \\nHybrid (Result Set vector,hybridVector) Document da8e5fdd-87c6-4b1e-9391-1a7e6ccb3c50: original score 0.6449458, normalized score: 0.25'}]\n",
      "Title: Machine Learning\n",
      "Date: 2021-10-01 00:00:00+00:00\n",
      "Category: ML\n",
      "Author: Towards Data Science\n",
      "Body: Machine learning is a subset of artificial intelligence (AI) that provides systems the ability [...]\n",
      "\n",
      "ID: 151753684610208536323796683740283397757\n",
      "Metadata: [{'score': 0.88}, {'explain_score': '\\nHybrid (Result Set keyword,bm25) Document 722ab250-321b-4410-8574-198afc17e67d: original score 0.88386375, normalized score: 0.6337025 - \\nHybrid (Result Set vector,hybridVector) Document 722ab250-321b-4410-8574-198afc17e67d: original score 0.6328484, normalized score: 0.24408486'}]\n",
      "Title: Machine Learning Basics\n",
      "Date: 2023-03-05 00:00:00+00:00\n",
      "Category: ML\n",
      "Author: Analytics Vidhya\n",
      "Body: Machine learning is a branch of artificial intelligence that focuses on building systems that [...]\n",
      "\n",
      "ID: 157521492403312658662470011970601017814\n",
      "Metadata: [{'score': 0.47}, {'explain_score': '\\nHybrid (Result Set keyword,bm25) Document 76818931-6cb7-42b0-82de-a06927b2e1d6: original score 0.21351866, normalized score: 0.014821015 - \\nHybrid (Result Set keyword,bm25) Document 76818931-6cb7-42b0-82de-a06927b2e1d6: original score 0.48623222, normalized score: 0.26659787 - \\nHybrid (Result Set vector,hybridVector) Document 76818931-6cb7-42b0-82de-a06927b2e1d6: original score 0.5275562, normalized score: 0.19260132'}]\n",
      "Title: Introduction to Deep Learning\n",
      "Date: 2022-07-10 00:00:00+00:00\n",
      "Category: ML\n",
      "Author: Towards Data Science\n",
      "Body: Deep learning is a subset of machine learning that uses neural networks with many layers to [...]\n",
      "\n"
     ]
    }
   ],
   "source": [
    "response = article.query.hybrid(\n",
    "    query=\"what is machine learning?\",\n",
    "    alpha=0.25,  # keyword search is being given more wieghtage\n",
    "    return_metadata=MetadataQuery(score=True, explain_score=True),\n",
    "    limit=3\n",
    ")\n",
    "\n",
    "print_objects(response.objects)"
   ]
  },
  {
   "cell_type": "markdown",
   "metadata": {},
   "source": [
    "```json\n",
    "{'explain_score': '\\nHybrid (Result Set keyword,bm25) Document fe776c9c-a970-4337-b2f1-732d778b997d: original score 1.0120157, normalized score: 0.75 - \\nHybrid (Result Set vector,hybridVector) Document fe776c9c-a970-4337-b2f1-732d778b997d: original score 0.6449458, normalized score: 0.25'}```\n",
    "\n",
    "As you can see, the keyword search score has been normalized to 0.75 and the vector search score has been normalised to 0.25. Which means keyword search is being given more weightage during the combination"
   ]
  },
  {
   "cell_type": "markdown",
   "metadata": {},
   "source": [
    "### Search By Filtering\n",
    "\n",
    "Objects/chunks can also be retrieved by just filtering on the properties. This is useful when you want to retrieve chunks that contain specific values in the properties."
   ]
  },
  {
   "cell_type": "code",
   "execution_count": 81,
   "metadata": {},
   "outputs": [
    {
     "name": "stdout",
     "output_type": "stream",
     "text": [
      "ID: 138909255830429965420632981935136292337\n",
      "Metadata: []\n",
      "Title: Algorithms\n",
      "Date: 2021-12-05 00:00:00+00:00\n",
      "Category: Programming\n",
      "Author: Towards Data Science\n",
      "Body: Algorithms are step-by-step instructions or rules designed to perform a task or solve a [...]\n",
      "\n",
      "ID: 179488132978240488857476808553647115166\n",
      "Metadata: []\n",
      "Title: Object-Oriented Programming\n",
      "Date: 2023-01-15 00:00:00+00:00\n",
      "Category: Programming\n",
      "Author: Codecademy\n",
      "Body: Object-oriented programming (OOP) is a paradigm based on the concept of 'objects', which can [...]\n",
      "\n"
     ]
    }
   ],
   "source": [
    "from weaviate.classes.query import Filter\n",
    "\n",
    "response =  article.query.fetch_objects(\n",
    "    filters=Filter.by_property(\"category\").equal(\"Programming\"),\n",
    "    limit=2\n",
    ")\n",
    "\n",
    "print_objects(response.objects)"
   ]
  },
  {
   "cell_type": "markdown",
   "metadata": {},
   "source": [
    "#### Filter on multiple properties"
   ]
  },
  {
   "cell_type": "code",
   "execution_count": 82,
   "metadata": {},
   "outputs": [
    {
     "name": "stdout",
     "output_type": "stream",
     "text": [
      "ID: 9052491185643298918940238487750688866\n",
      "Metadata: []\n",
      "Title: Data Structures\n",
      "Date: 2022-03-12 00:00:00+00:00\n",
      "Category: Programming\n",
      "Author: GeeksForGeeks\n",
      "Body: Data structures are ways of organizing and storing data so that they can be accessed and [...]\n",
      "\n",
      "ID: 282176851638362230292167119753462938456\n",
      "Metadata: []\n",
      "Title: Understanding Hash Tables\n",
      "Date: 2022-10-15 00:00:00+00:00\n",
      "Category: Programming\n",
      "Author: GeeksForGeeks\n",
      "Body: Hash tables are a data structure that implements an associative array, a structure that can [...]\n",
      "\n"
     ]
    }
   ],
   "source": [
    "response =  article.query.fetch_objects(\n",
    "    filters=(\n",
    "        Filter.by_property(\"category\").equal(\"Programming\") &   # use & for AND, | for OR\n",
    "        Filter.by_property(\"author\").equal(\"GeeksForGeeks\")\n",
    "    ),\n",
    "    limit=2\n",
    ")\n",
    "\n",
    "print_objects(response.objects)"
   ]
  },
  {
   "cell_type": "markdown",
   "metadata": {},
   "source": [
    "#### Filter on properties with search"
   ]
  },
  {
   "cell_type": "code",
   "execution_count": 83,
   "metadata": {},
   "outputs": [
    {
     "name": "stdout",
     "output_type": "stream",
     "text": [
      "ID: 290510953615380066757077280396556319824\n",
      "Metadata: []\n",
      "Title: Machine Learning\n",
      "Date: 2021-10-01 00:00:00+00:00\n",
      "Category: ML\n",
      "Author: Towards Data Science\n",
      "Body: Machine learning is a subset of artificial intelligence (AI) that provides systems the ability [...]\n",
      "\n",
      "ID: 151753684610208536323796683740283397757\n",
      "Metadata: []\n",
      "Title: Machine Learning Basics\n",
      "Date: 2023-03-05 00:00:00+00:00\n",
      "Category: ML\n",
      "Author: Analytics Vidhya\n",
      "Body: Machine learning is a branch of artificial intelligence that focuses on building systems that [...]\n",
      "\n"
     ]
    }
   ],
   "source": [
    "response =  article.query.near_text(\n",
    "    query=\"What is machine learning?\",\n",
    "    filters=(\n",
    "        Filter.by_property(\"category\").equal(\"ML\")\n",
    "    ),\n",
    "    limit=2\n",
    ")\n",
    "\n",
    "print_objects(response.objects)"
   ]
  },
  {
   "cell_type": "markdown",
   "metadata": {},
   "source": [
    "#### Contains Any Filteration"
   ]
  },
  {
   "cell_type": "code",
   "execution_count": 85,
   "metadata": {},
   "outputs": [
    {
     "name": "stdout",
     "output_type": "stream",
     "text": [
      "ID: 76158799381221900616382927789714661060\n",
      "Metadata: []\n",
      "Title: Cryptography\n",
      "Date: 2022-08-25 00:00:00+00:00\n",
      "Category: Cybersecurity\n",
      "Author: TechCrunch\n",
      "Body: Cryptography is the study and practice of securing communication and data from unauthorized [...]\n",
      "\n",
      "ID: 327501226512119996986741418061563631305\n",
      "Metadata: []\n",
      "Title: The Importance of Cybersecurity\n",
      "Date: 2022-12-12 00:00:00+00:00\n",
      "Category: Cybersecurity\n",
      "Author: Krebs on Security\n",
      "Body: Cybersecurity involves protecting computer systems and networks from information disclosure, [...]\n",
      "\n"
     ]
    }
   ],
   "source": [
    "response =  article.query.fetch_objects(\n",
    "    filters=(\n",
    "        Filter.by_property(\"body\").contains_any([\"cybersecurity\", \"security\"])\n",
    "    ),\n",
    "    limit=2\n",
    ")\n",
    "\n",
    "print_objects(response.objects)"
   ]
  },
  {
   "cell_type": "markdown",
   "metadata": {},
   "source": [
    "#### Contains All Filteration"
   ]
  },
  {
   "cell_type": "code",
   "execution_count": 86,
   "metadata": {},
   "outputs": [
    {
     "name": "stdout",
     "output_type": "stream",
     "text": [
      "ID: 327501226512119996986741418061563631305\n",
      "Metadata: []\n",
      "Title: The Importance of Cybersecurity\n",
      "Date: 2022-12-12 00:00:00+00:00\n",
      "Category: Cybersecurity\n",
      "Author: Krebs on Security\n",
      "Body: Cybersecurity involves protecting computer systems and networks from information disclosure, [...]\n",
      "\n"
     ]
    }
   ],
   "source": [
    "response =  article.query.fetch_objects(\n",
    "    filters=(\n",
    "        Filter.by_property(\"body\").contains_all([\"cybersecurity\", \"security\"])\n",
    "    ),\n",
    "    limit=2\n",
    ")\n",
    "\n",
    "print_objects(response.objects)"
   ]
  },
  {
   "cell_type": "markdown",
   "metadata": {},
   "source": [
    "#### Filter by Date"
   ]
  },
  {
   "cell_type": "code",
   "execution_count": 88,
   "metadata": {},
   "outputs": [
    {
     "name": "stdout",
     "output_type": "stream",
     "text": [
      "ID: 160388162426943058060510827950556935940\n",
      "Metadata: []\n",
      "Title: RESTful API Design\n",
      "Date: 2023-04-10 00:00:00+00:00\n",
      "Category: Web Development\n",
      "Author: Smashing Magazine\n",
      "Body: RESTful APIs are an architectural style for designing networked applications. They rely on [...]\n",
      "\n"
     ]
    }
   ],
   "source": [
    "from datetime import datetime, timezone\n",
    "\n",
    "# filter for articles published after March 2023\n",
    "filter_time = datetime(2023, 3, 1).replace(tzinfo=timezone.utc)\n",
    "\n",
    "response = article.query.fetch_objects(\n",
    "    limit=3,\n",
    "    filters=(\n",
    "        Filter.by_property(\"date\").greater_than(filter_time) &\n",
    "        Filter.by_property(\"category\").equal(\"Web Development\")\n",
    "    )\n",
    ")\n",
    "\n",
    "print_objects(response.objects)"
   ]
  }
 ],
 "metadata": {
  "kernelspec": {
   "display_name": ".venv",
   "language": "python",
   "name": "python3"
  },
  "language_info": {
   "codemirror_mode": {
    "name": "ipython",
    "version": 3
   },
   "file_extension": ".py",
   "mimetype": "text/x-python",
   "name": "python",
   "nbconvert_exporter": "python",
   "pygments_lexer": "ipython3",
   "version": "3.11.1"
  }
 },
 "nbformat": 4,
 "nbformat_minor": 2
}
