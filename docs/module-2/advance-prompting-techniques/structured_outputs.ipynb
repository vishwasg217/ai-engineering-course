{
 "cells": [
  {
   "cell_type": "markdown",
   "metadata": {},
   "source": [
    "# Structured Outputs"
   ]
  },
  {
   "cell_type": "markdown",
   "metadata": {},
   "source": [
    "## JSON Mode\n",
    "\n",
    "JSON mode will ensure that the model outputs valid JSON.the JSON schema should be provided within the prompt in one of the messages. To enable JSON mode `response_format` needs to be set to `{ \"type\": \"json_object\" }`\n",
    "\n",
    "## Example:\n",
    "Let's use an use case such as news summarization to see how JSON mode can be used.\n",
    "[News Article](https://www.forbes.com/sites/tylerroush/2024/09/12/fda-approves-first-hearing-aid-software-for-apples-airpods/)"
   ]
  },
  {
   "cell_type": "code",
   "execution_count": 10,
   "metadata": {},
   "outputs": [],
   "source": [
    "article_content = \"\"\"\n",
    "FDA Approves First Hearing Aid Software For Apple's AirPods\n",
    "\n",
    "Ty Roush\n",
    "Forbes Staff\n",
    "Ty Roush is a breaking news reporter based in New York City.\n",
    "\n",
    "Sep 12, 2024,12:55pm EDT\n",
    "\n",
    "The Food and Drug Administration on Thursday allowed the first over-the-counter hearing aid software device to hit the market, a feature Apple announced earlier this week would be compatible with its latest earbuds to assist consumers they say may be unaware they have hearing loss.\n",
    "\n",
    "Key Facts\n",
    "The FDA approved the software device, “Hearing Aid Feature,” which the agency said could be installed on Apple's AirPods Pro headphones to amplify sounds for anyone 18 or older with mild to moderate hearing impairment.\n",
    "\n",
    "Apple announced Monday its upcoming Apple AirPods Pro 2 could “transform” into over-the-counter hearing aids through an upcoming software update that would increase some sounds in real-time, including voices or other sounds in a user's environment.\n",
    "\n",
    "Apple said it expects to include the hearing aid software in an update in the fall.\n",
    "\n",
    "More than 30 million. That's how many American adults have reported some degree of hearing loss, which can be caused by aging, exposure to loud noises and certain medical conditions, among other factors, the FDA said.\n",
    "\n",
    "Key Background\n",
    "The Hearing Aid Feature is new software intended to expand access to hearing support, the FDA said. Access was previously much more limited, the FDA noted, before the agency announced new regulations in 2022 allowing consumers with hearing impairments to purchase hearing aids directly from stores or online retailers without a medical exam or prescription. Apple has advertised the software as a benefit for “millions of people” unaware they are living with hearing loss, adding users can receive hearing tests through their iPhones. The software was evaluated in a study involving 118 participants with mild to moderate hearing loss, indicating patients who used the software received similar benefits to those who used traditional hearing aids, the FDA said.\n",
    "\n",
    "Crucial Quote\n",
    "Michelle Tarver, director of the FDA's Center for Devices and Radiological Health, said in a statement the software's authorization “advances the availability, accessibility and acceptability” of hearing support for adults.\n",
    "\n",
    "\"\"\""
   ]
  },
  {
   "cell_type": "code",
   "execution_count": 11,
   "metadata": {},
   "outputs": [],
   "source": [
    "response_format = {\n",
    "    \"title\": \"\",\n",
    "    \"author\": \"\",\n",
    "    \"date\": \"\",\n",
    "    \"summary\": \"\",\n",
    "    \"sentiment\": \"\",\n",
    "    \"keywords\": [],\n",
    "    \"main_company\": \"\",\n",
    "    \"other_orgs\": \"list of other organizations mentioned in the article\",\n",
    "}"
   ]
  },
  {
   "cell_type": "code",
   "execution_count": 12,
   "metadata": {},
   "outputs": [],
   "source": [
    "from dotenv import load_dotenv\n",
    "from openai import OpenAI\n",
    "import json\n",
    "\n",
    "load_dotenv(\"../../.env\")\n",
    "\n",
    "client = OpenAI()\n",
    "\n",
    "PROMPT_TEMPLATE = \"\"\"\n",
    "You are a news summarizer. Your task is to summarize the following article:\n",
    "\n",
    "## Content:\n",
    "{content}\n",
    "\n",
    "## Response Format:\n",
    "{response_format}\n",
    "\n",
    "## Response:\n",
    "\n",
    "\"\"\"\n",
    "\n",
    "def complete(article_content, response_format):\n",
    "    prompt = PROMPT_TEMPLATE.format(\n",
    "        content=article_content, \n",
    "        response_format=response_format\n",
    "    )\n",
    "\n",
    "    response = client.chat.completions.create(\n",
    "        model=\"gpt-4o-mini\",\n",
    "        response_format={\"type\": \"json_object\"},\n",
    "        messages=[\n",
    "            {\"role\": \"system\", \"content\": \"you are an assistant that responds in JSON\"},\n",
    "            {\"role\": \"user\", \"content\": prompt}\n",
    "        ]\n",
    "    )\n",
    "\n",
    "    return json.loads(response.choices[0].message.content)"
   ]
  },
  {
   "cell_type": "code",
   "execution_count": 13,
   "metadata": {},
   "outputs": [
    {
     "data": {
      "text/plain": [
       "{'title': \"FDA Approves First Hearing Aid Software For Apple's AirPods\",\n",
       " 'author': 'Ty Roush',\n",
       " 'date': 'Sep 12, 2024',\n",
       " 'summary': \"The FDA has approved a new software feature that allows Apple's AirPods Pro to function as over-the-counter hearing aids for adults with mild to moderate hearing impairment. This software, set to be released in a fall update, will amplify sounds in real-time, making it easier for users to hear voices and environmental sounds. The approval aims to provide wider access to hearing support, particularly as over 30 million American adults experience some level of hearing loss.\",\n",
       " 'sentiment': 'positive',\n",
       " 'keywords': ['FDA',\n",
       "  'Hearing Aid Feature',\n",
       "  'Apple AirPods Pro',\n",
       "  'hearing loss',\n",
       "  'software update',\n",
       "  'accessibility'],\n",
       " 'main_company': 'Apple',\n",
       " 'other_orgs': ['FDA']}"
      ]
     },
     "execution_count": 13,
     "metadata": {},
     "output_type": "execute_result"
    }
   ],
   "source": [
    "response = complete(article_content, response_format)\n",
    "response"
   ]
  },
  {
   "cell_type": "markdown",
   "metadata": {},
   "source": [
    "## Structured Outputs using Pydantic\n",
    "\n",
    "This is a new and better method to ensure generattion of structured Outputs. \n",
    "\n",
    "Pydantic is a data validation and settings management using Python type annotations. Pydantic enforces type hints at runtime, and provides user friendly errors when data is invalid.\n",
    "\n",
    "Pydantic models can be used to define the schema of the output. The model can be used to validate the output and ensure that the output is in the correct format."
   ]
  },
  {
   "cell_type": "code",
   "execution_count": 20,
   "metadata": {},
   "outputs": [],
   "source": [
    "from pydantic import BaseModel\n",
    "from enum import Enum\n",
    "\n",
    "class Sentiment(str, Enum):\n",
    "    very_negative = \"very negative\"\n",
    "    negative = \"negative\"\n",
    "    neutral = \"neutral\"\n",
    "    positive = \"positive\"\n",
    "    very_positive = \"very positive\"\n",
    "\n",
    "class Article(BaseModel):\n",
    "    title: str\n",
    "    author: str\n",
    "    date: str\n",
    "    summary: str\n",
    "    sentiment: Sentiment\n",
    "    keywords: list[str]\n",
    "    main_company: str\n",
    "    other_orgs: list[str]"
   ]
  },
  {
   "cell_type": "markdown",
   "metadata": {},
   "source": [
    "### There are some changes from compared to the normal way of completions endpoint:\n",
    "\n",
    "1. Use `client.beta.chat.completions.parse()` instead of `client.chat.completions.create()`\n",
    "2. Set `response_format` to the pydantic schema defined.\n",
    "3. Use the `response.choices[0].message.parsed` to get the output in the desired format."
   ]
  },
  {
   "cell_type": "code",
   "execution_count": 23,
   "metadata": {},
   "outputs": [],
   "source": [
    "def complete(article_content, response_format):\n",
    "    response = client.beta.chat.completions.parse(\n",
    "        model=\"gpt-4o-mini\",\n",
    "        messages=[\n",
    "            {\"role\": \"system\", \"content\": \"you are a new summarizer that will extract key details from news article content.\"},\n",
    "            {\"role\": \"user\", \"content\": article_content}\n",
    "        ],\n",
    "        response_format=response_format\n",
    "    )\n",
    "\n",
    "    return response.choices[0].message.parsed"
   ]
  },
  {
   "cell_type": "code",
   "execution_count": 25,
   "metadata": {},
   "outputs": [
    {
     "data": {
      "text/plain": [
       "{'title': \"FDA Approves First Hearing Aid Software For Apple's AirPods\",\n",
       " 'author': 'Ty Roush',\n",
       " 'date': 'Sep 12, 2024,12:55pm EDT',\n",
       " 'summary': 'The FDA has approved an over-the-counter hearing aid software that can be installed on Apple AirPods Pro headphones, aimed at helping adults aged 18 and older with mild to moderate hearing impairments. This feature, expected to roll out in a fall update, allows users to amplify real-time sounds. Over 30 million American adults have reported some degree of hearing loss, and this new regulation aims to improve access to hearing aids.',\n",
       " 'sentiment': <Sentiment.positive: 'positive'>,\n",
       " 'keywords': ['FDA',\n",
       "  'hearing aid',\n",
       "  'Apple',\n",
       "  'AirPods Pro',\n",
       "  'hearing loss',\n",
       "  'technology'],\n",
       " 'main_company': 'Apple',\n",
       " 'other_orgs': ['FDA']}"
      ]
     },
     "execution_count": 25,
     "metadata": {},
     "output_type": "execute_result"
    }
   ],
   "source": [
    "article = complete(article_content,Article)\n",
    "article.model_dump()"
   ]
  }
 ],
 "metadata": {
  "kernelspec": {
   "display_name": ".venv",
   "language": "python",
   "name": "python3"
  },
  "language_info": {
   "codemirror_mode": {
    "name": "ipython",
    "version": 3
   },
   "file_extension": ".py",
   "mimetype": "text/x-python",
   "name": "python",
   "nbconvert_exporter": "python",
   "pygments_lexer": "ipython3",
   "version": "3.11.1"
  }
 },
 "nbformat": 4,
 "nbformat_minor": 2
}
