{
 "cells": [
  {
   "cell_type": "markdown",
   "metadata": {},
   "source": [
    "# Prompting Techniques"
   ]
  },
  {
   "cell_type": "markdown",
   "metadata": {},
   "source": [
    "### Zero Shot Prompting\n",
    "'Zero Shot' means that the prompt will not contain any examples of the desired output. The model will be expected to generate the output from the instruction alone."
   ]
  },
  {
   "cell_type": "code",
   "execution_count": 39,
   "metadata": {},
   "outputs": [],
   "source": [
    "from dotenv import load_dotenv\n",
    "from openai import OpenAI\n",
    "\n",
    "load_dotenv(\"../.env\")\n",
    "client = OpenAI()\n",
    "\n",
    "model = \"gpt-4o-mini\"\n",
    "\n"
   ]
  },
  {
   "cell_type": "code",
   "execution_count": 40,
   "metadata": {},
   "outputs": [
    {
     "data": {
      "text/plain": [
       "'Sentiment: Positive'"
      ]
     },
     "execution_count": 40,
     "metadata": {},
     "output_type": "execute_result"
    }
   ],
   "source": [
    "prompt = \"\"\"\n",
    "Classify the following text as either positive, neutral or negative sentiment:\n",
    "Text: I love this product, it's the best!\n",
    "Sentiment:\n",
    "\"\"\"\n",
    "\n",
    "def complete(prompt):\n",
    "    return client.chat.completions.create(\n",
    "        model=model,\n",
    "        temperature=0,\n",
    "        messages=[\n",
    "            {\"role\": \"user\", \"content\": prompt},\n",
    "        ]\n",
    "    ).choices[0].message.content\n",
    "\n",
    "complete(prompt)"
   ]
  },
  {
   "cell_type": "markdown",
   "metadata": {},
   "source": [
    "### Few Shot Prompting\n",
    "'Few Shot' means that the prompt will contain a few examples that can help the model have a more nuanced understanding of the task. Few shot prompting helps in steering model towards more sophisticated outputs. "
   ]
  },
  {
   "cell_type": "code",
   "execution_count": 41,
   "metadata": {},
   "outputs": [
    {
     "data": {
      "text/plain": [
       "'Sentiment: positive'"
      ]
     },
     "execution_count": 41,
     "metadata": {},
     "output_type": "execute_result"
    }
   ],
   "source": [
    "prompt = \"\"\"\n",
    "Text: I hate this product, it's the worst!\n",
    "Sentiment: negative\n",
    "Text: This product is damn good!\n",
    "Sentiment: positive\n",
    "Text: This product is okayish\n",
    "Sentiment: neutral\n",
    "Text: not sure this I want to buy this product\n",
    "Sentiment: negative\n",
    "Text: this product is good, not great\n",
    "Sentiment: positive\n",
    "Text: I think this product suits my needs\n",
    "Sentiment: \n",
    "\"\"\"\n",
    "complete(prompt)"
   ]
  },
  {
   "cell_type": "markdown",
   "metadata": {},
   "source": [
    "### CoT (Chain of Thought) Prompting\n",
    "CoT prompting simulates complex reasoning capabilities by chaining multiple intermediate prompts together. The model is expected to breakdown the task into smaller sub-tasks, explain each step and eventually generate the final output.\n"
   ]
  },
  {
   "cell_type": "code",
   "execution_count": 42,
   "metadata": {},
   "outputs": [
    {
     "name": "stdout",
     "output_type": "stream",
     "text": [
      "To find out how many punches Joe threw in total, we need to calculate the number of punches he threw in each fight and then sum them up.\n",
      "\n",
      "**Step 1: Calculate the total time Joe fought in each match.**\n",
      "\n",
      "1. **First fight:**\n",
      "   - Joe lasts 5 rounds of 3 minutes each.\n",
      "   - Total time = 5 rounds × 3 minutes/round = 15 minutes.\n",
      "\n",
      "2. **Second fight:**\n",
      "   - Joe lasts 4 rounds of 5 minutes each.\n",
      "   - Total time = 4 rounds × 5 minutes/round = 20 minutes.\n",
      "\n",
      "**Step 2: Calculate the total number of punches thrown in each fight.**\n",
      "\n",
      "Joe throws an average of 25 punches per minute.\n",
      "\n",
      "1. **First fight:**\n",
      "   - Total punches = 25 punches/minute × 15 minutes = 375 punches.\n",
      "\n",
      "2. **Second fight:**\n",
      "   - Total punches = 25 punches/minute × 20 minutes = 500 punches.\n",
      "\n",
      "**Step 3: Calculate the total punches thrown in both fights.**\n",
      "\n",
      "Total punches = punches from first fight + punches from second fight\n",
      "Total punches = 375 punches + 500 punches = 875 punches.\n",
      "\n",
      "**Final Answer:**\n",
      "Joe threw a total of 875 punches.\n"
     ]
    }
   ],
   "source": [
    "prompt = \"\"\"\n",
    "Solve the below problem by thinking step by step:\n",
    "On average Joe throws 25 punches per minute. \n",
    "In one fight, he lasts 5 rounds of 3 minutes. \n",
    "In another match, he lasts 4 rounds of 5 minutes.\n",
    "How many punches did he throw in total?\n",
    "\"\"\"\n",
    "print(complete(prompt))"
   ]
  },
  {
   "cell_type": "markdown",
   "metadata": {},
   "source": [
    "### ReAct (Reasoning + Action) Prompting"
   ]
  },
  {
   "cell_type": "code",
   "execution_count": 94,
   "metadata": {},
   "outputs": [],
   "source": [
    "budget_limits = {\n",
    "    \"food\": 500,\n",
    "    \"entertainment\": 200,\n",
    "    \"electronics\": 1000,\n",
    "    \"clothing\": 300,\n",
    "    \"miscellaneous\": 150\n",
    "}\n",
    "\n",
    "current_spending = {\n",
    "    \"food\": 40,\n",
    "    \"entertainment\": 10,\n",
    "    \"electronics\": 80,\n",
    "    \"clothing\": 0,\n",
    "    \"miscellaneous\": 0\n",
    "}\n",
    "\n",
    "expense_keywords = {\n",
    "    \"food\": [\"grocery\", \"restaurant\", \"food\", \"meal\", \"snack\"],\n",
    "    \"entertainment\": [\"movie\", \"concert\", \"game\", \"book\", \"music\"],\n",
    "    \"electronics\": [\"computer\", \"phone\", \"gadget\", \"laptop\", \"tablet\"],\n",
    "    \"clothing\": [\"shirt\", \"pants\", \"shoes\", \"jacket\", \"dress\"],\n",
    "    \"miscellaneous\": [\"gift\", \"household\", \"stationery\"]\n",
    "}\n",
    "\n",
    "def calculate(expression):\n",
    "    \"\"\"Performs basic arithmetic operations.\"\"\"\n",
    "    try:\n",
    "        return eval(expression)\n",
    "    except:\n",
    "        return \"Invalid expression\"\n",
    "\n",
    "def get_expense_category(description):\n",
    "    \"\"\"Categorizes an expense based on keywords.\"\"\"\n",
    "    description = description.lower()\n",
    "    for category, keywords in expense_keywords.items():\n",
    "        if any(keyword in description for keyword in keywords):\n",
    "            return category\n",
    "    return \"miscellaneous\"\n",
    "\n",
    "def get_budget_limit(category):\n",
    "    \"\"\"Returns the budget limit for a given category.\"\"\"\n",
    "    return budget_limits.get(category, 0)\n",
    "\n",
    "def get_current_spending(category):\n",
    "    \"\"\"Returns the current spending for a given category.\"\"\"\n",
    "    return current_spending.get(category, 0)\n",
    "\n",
    "def add_expense(amount, description):\n",
    "    \"\"\"Adds an expense to the current spending.\"\"\"\n",
    "    category = get_expense_category(description)\n",
    "    current_spending[category] += amount\n",
    "    return f\"Added ${amount} to {category} category.\"\n",
    "\n",
    "def get_remaining_budget(category):\n",
    "    \"\"\"Calculates the remaining budget for a category.\"\"\"\n",
    "    limit = get_budget_limit(category)\n",
    "    spent = get_current_spending(category)\n",
    "    return limit - spent\n",
    "\n",
    "def check_budget_status(category):\n",
    "    \"\"\"Checks the budget status for a category.\"\"\"\n",
    "    limit = get_budget_limit(category)\n",
    "    spent = get_current_spending(category)\n",
    "    remaining = limit - spent\n",
    "    percentage = (spent / limit) * 100 if limit > 0 else 0\n",
    "    return f\"Category: {category}\\nSpent: ${spent}\\nBudget: ${limit}\\nRemaining: ${remaining}\\nPercentage used: {percentage:.2f}%\"\n"
   ]
  },
  {
   "cell_type": "code",
   "execution_count": 95,
   "metadata": {},
   "outputs": [],
   "source": [
    "tools_desc = {\n",
    "    \"calculate\": {\n",
    "        \"description\": \"Performs basic arithmetic operations (add, subract, multiply, divide) on the provided mathematical expression.\",\n",
    "        \"input_params\": {\n",
    "            \"expression\": \"A string containing a mathematical expression, e.g., '2 + 3 * 4'.\"\n",
    "        }\n",
    "    },\n",
    "    \"get_expense_category\": {\n",
    "        \"description\": \"Categorizes an expense based on keywords found in the description. Matches against predefined categories like food, entertainment, electronics, clothing, and miscellaneous.\",\n",
    "        \"input_params\": {\n",
    "            \"description\": \"A string describing the expense, e.g., 'Bought a new phone'.\"\n",
    "        }\n",
    "    },\n",
    "    \"get_budget_limit\": {\n",
    "        \"description\": \"Returns the budget limit for a given category based on predefined limits.\",\n",
    "        \"input_params\": {\n",
    "            \"category\": \"A string representing the category, e.g., 'food', 'electronics'.\"\n",
    "        }\n",
    "    },\n",
    "    \"get_current_spending\": {\n",
    "        \"description\": \"Returns the current spending amount for a given category.\",\n",
    "        \"input_params\": {\n",
    "            \"category\": \"A string representing the category, e.g., 'clothing', 'entertainment'.\"\n",
    "        }\n",
    "    },\n",
    "    \"add_expense\": {\n",
    "        \"description\": \"Adds a specified expense amount to the current spending of the appropriate category, determined based on the description.\",\n",
    "        \"input_params\": {\n",
    "            \"amount\": \"A number representing the expense amount, e.g., 50.\",\n",
    "            \"description\": \"A string describing the expense, e.g., 'Dinner at a restaurant'.\"\n",
    "        }\n",
    "    },\n",
    "    \"get_remaining_budget\": {\n",
    "        \"description\": \"Calculates the remaining budget for a specified category by subtracting the current spending from the budget limit.\",\n",
    "        \"input_params\": {\n",
    "            \"category\": \"A string representing the category, e.g., 'miscellaneous', 'food'.\"\n",
    "        }\n",
    "    },\n",
    "    \"check_budget_status\": {\n",
    "        \"description\": \"Checks the budget status for a specified category, providing details on the total budget, amount spent, remaining budget, and percentage of budget used.\",\n",
    "        \"input_params\": {\n",
    "            \"category\": \"A string representing the category, e.g., 'electronics', 'food'.\"\n",
    "        }\n",
    "    }\n",
    "}\n",
    "\n",
    "tools_available = {\n",
    "    \"calculate\": calculate,\n",
    "    \"get_expense_category\": get_expense_category,\n",
    "    \"get_budget_limit\": get_budget_limit,\n",
    "    \"get_current_spending\": get_current_spending,\n",
    "    \"add_expense\": add_expense,\n",
    "    \"get_remaining_budget\": get_remaining_budget,\n",
    "    \"check_budget_status\": check_budget_status\n",
    "}"
   ]
  },
  {
   "cell_type": "code",
   "execution_count": 101,
   "metadata": {},
   "outputs": [],
   "source": [
    "# ReAct Prompt\n",
    "PROMPT_TEMPLATE = \"\"\"\n",
    "You are an AI assistant capable of reasoning and acting to answer complex questions. Your task is to use the tools provide and the steps already taken to the answer the given question.\n",
    "\n",
    "# You have access to the following tools:\n",
    "{tools_desc}\n",
    "\n",
    "# Steps so far:\n",
    "{steps}\n",
    "\n",
    "# To solve the problem, follow these steps:\n",
    "1. Analyse the question use the ONE tool which could help you the most to answer the question.\n",
    "2. Observe whether the response the of the tool is enough to answer the question.\n",
    "3. If not enough, use the another tools that can help you to answer the question.\n",
    "4. If one tool does not provide the required information, then use try using another tool.\n",
    "5. Repeat the process until you have enough information to answer the question.\n",
    "6. Once you have the final answer, respond ONLY with the answer.\n",
    "\n",
    "\n",
    "Show your reasoning and actions for each step. Use the format:\n",
    "Thought: your thought process on the question\n",
    "Action: the tool to be used that can help you to answer the question and its input\n",
    "\n",
    "Answer the following question:\n",
    "{question}\n",
    "\n",
    "{{\n",
    "    \"is_done\": true or false, whether the questions has been satisfactorily answered,\n",
    "    \"thought\": 'thought process',\n",
    "    \"action\": {{'tool_name': '', tool_input: ''}},\n",
    "    \"answer\": \"use only this key to respond with final answer\"\n",
    "}}\n",
    "\"\"\""
   ]
  },
  {
   "cell_type": "code",
   "execution_count": 102,
   "metadata": {},
   "outputs": [],
   "source": [
    "from openai import OpenAI\n",
    "from dotenv import load_dotenv\n",
    "import json\n",
    "\n",
    "load_dotenv(\"../.env\")\n",
    "\n",
    "class ReActAgent:\n",
    "    def __init__(self, tools_available, tools_desc: dict, model: str, verbose:bool = True):\n",
    "        self.tools_available = tools_available\n",
    "        self.tools_desc = tools_desc\n",
    "        self.model = model\n",
    "        self.client = OpenAI()\n",
    "        self.verbose = verbose\n",
    "\n",
    "    def complete(self, question, tools_desc, steps) -> dict:\n",
    "        prompt = PROMPT_TEMPLATE.format(\n",
    "            tools_desc=tools_desc,\n",
    "            steps=steps,\n",
    "            question=question\n",
    "        )\n",
    "\n",
    "        response = self.client.chat.completions.create(\n",
    "            model=self.model,\n",
    "            response_format={ \"type\": \"json_object\" },\n",
    "            messages=[\n",
    "                {\"role\": \"system\", \"content\": \"You are a helpful asssistant who responds in JSON\"},\n",
    "                {\"role\": \"user\", \"content\": prompt}\n",
    "            ]\n",
    "        )\n",
    "\n",
    "        return json.loads(response.choices[0].message.content)\n",
    "    \n",
    "    def query(self, question):\n",
    "        step_count = 0\n",
    "        steps = []\n",
    "        final_response = \"\"\n",
    "\n",
    "        while True:\n",
    "            response = self.complete(question, self.tools_desc, steps)\n",
    "            print(response)\n",
    "            step_count += 1\n",
    "\n",
    "            if response[\"is_done\"]:\n",
    "                final_response = response[\"answer\"]\n",
    "                break\n",
    "            \n",
    "            tool_name, tool_input = response[\"action\"][\"tool_name\"], response[\"action\"][\"tool_input\"]\n",
    "            tool_output = self.tools_available[tool_name](**tool_input)\n",
    "            step = f\"\"\"\n",
    "            Thought: {response[\"thought\"]}\n",
    "            Action: {tool_name}({tool_input})\n",
    "            Observation: {tool_output}\n",
    "            \"\"\"\n",
    "            print(step) if self.verbose else None\n",
    "            steps.append(step)\n",
    "        \n",
    "\n",
    "        return {\n",
    "            \"content\": final_response,\n",
    "            \"steps\": steps\n",
    "        }"
   ]
  },
  {
   "cell_type": "code",
   "execution_count": 104,
   "metadata": {},
   "outputs": [
    {
     "name": "stdout",
     "output_type": "stream",
     "text": [
      "Question: What percentage of my entertainment budget have I used so far, and how much is left?\n",
      "{'is_done': False, 'thought': 'To find out what percentage of the entertainment budget has been used and how much is left, I first need to check the budget status for the entertainment category. This will provide details on the total budget, amount spent, remaining budget, and the percentage of budget used.', 'action': {'tool_name': 'check_budget_status', 'tool_input': {'category': 'entertainment'}}, 'answer': ''}\n",
      "\n",
      "            Thought: To find out what percentage of the entertainment budget has been used and how much is left, I first need to check the budget status for the entertainment category. This will provide details on the total budget, amount spent, remaining budget, and the percentage of budget used.\n",
      "            Action: check_budget_status({'category': 'entertainment'})\n",
      "            Observation: Category: entertainment\n",
      "Spent: $10\n",
      "Budget: $200\n",
      "Remaining: $190\n",
      "Percentage used: 5.00%\n",
      "            \n",
      "{'is_done': True, 'thought': 'I have already checked the budget status for the entertainment category, which provided information on the total budget, amount spent, remaining budget, and percentage of budget used.', 'action': {'tool_name': 'check_budget_status', 'tool_input': {'category': 'entertainment'}}, 'answer': 'You have used 5.00% of your entertainment budget, and you have $190 left.'}\n"
     ]
    },
    {
     "data": {
      "text/plain": [
       "'You have used 5.00% of your entertainment budget, and you have $190 left.'"
      ]
     },
     "execution_count": 104,
     "metadata": {},
     "output_type": "execute_result"
    }
   ],
   "source": [
    "agent1 = ReActAgent(tools_available, tools_desc, model)\n",
    "\n",
    "questions = [\n",
    "    \"I just spent $40 on dinner at a restaurant. How much of my food budget is left for the month?\",\n",
    "    \"If I buy a $900 laptop and a $200 smartphone, will I exceed my electronics budget?\",\n",
    "    \"What percentage of my entertainment budget have I used so far, and how much is left?\",\n",
    "    \"I'm planning to buy clothes for $250 and a gift for $100. Can I afford both within my respective budgets?\",\n",
    "    \"I've spent $150 on groceries and $50 on a restaurant meal this week. How much more can I spend on food this month?\"\n",
    "    \"What categories have I overspent on, and by how much?\"\n",
    "]\n",
    "\n",
    "question = questions[2]\n",
    "print(f\"Question: {question}\")\n",
    "response = agent1.query(question)\n",
    "response[\"content\"]"
   ]
  }
 ],
 "metadata": {
  "kernelspec": {
   "display_name": ".venv",
   "language": "python",
   "name": "python3"
  },
  "language_info": {
   "codemirror_mode": {
    "name": "ipython",
    "version": 3
   },
   "file_extension": ".py",
   "mimetype": "text/x-python",
   "name": "python",
   "nbconvert_exporter": "python",
   "pygments_lexer": "ipython3",
   "version": "3.11.1"
  }
 },
 "nbformat": 4,
 "nbformat_minor": 2
}
