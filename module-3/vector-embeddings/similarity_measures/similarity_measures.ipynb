{
 "cells": [
  {
   "cell_type": "markdown",
   "metadata": {},
   "source": [
    "# Similarity Measures\n",
    "\n",
    "In vector databases, similarity measures are used to determine how close or related two vectors are. When working with embeddings, whether they represent words, products, or images, we need a way to quantify the distance or similarity between these vectors to make decisions, such as retrieving similar items or clustering related objects. Two common similarity measures used in vector databases are **Euclidean Distance** and **Cosine Similarity**. Each is suited to different kinds of data and use cases."
   ]
  },
  {
   "cell_type": "markdown",
   "metadata": {},
   "source": [
    "### 1. Euclidean Distance\n",
    "\n",
    "#### Definition\n",
    "Euclidean distance is the straight-line distance between two points in a multi-dimensional space. It’s essentially the generalization of the distance formula between two points on a 2D plane but extended to higher dimensions.\n",
    "\n",
    "#### Mathematical Formula\n",
    "For two vectors **A** and **B** with `n` dimensions, the Euclidean distance is calculated as:\n",
    "\n",
    "$$\n",
    "d(A, B) = \\sqrt{(A_1 - B_1)^2 + (A_2 - B_2)^2 + \\dots + (A_n - B_n)^2}\n",
    "$$\n",
    "\n",
    "#### When to Use It\n",
    "Use Euclidean distance when the magnitude of the vector is important. It works well in situations where you want to know how far apart two items are in a continuous space. For example, it’s often used in image recognition or clustering algorithms like k-means where physical distance between points is significant.\n"
   ]
  },
  {
   "cell_type": "markdown",
   "metadata": {},
   "source": [
    "#### Python Function (from Scratch)"
   ]
  },
  {
   "cell_type": "code",
   "execution_count": 7,
   "metadata": {},
   "outputs": [
    {
     "name": "stdout",
     "output_type": "stream",
     "text": [
      "7.0710678118654755\n"
     ]
    }
   ],
   "source": [
    "import math\n",
    "\n",
    "def euclidean_distance(A, B):\n",
    "    if len(A) != len(B):\n",
    "        raise ValueError(\"Vectors must be of same length.\")\n",
    "    return math.sqrt(sum((a - b) ** 2 for a, b in zip(A, B)))\n",
    "\n",
    "# Example Usage\n",
    "A = [1, 2, 3]\n",
    "B = [4, 6, 8]\n",
    "print(euclidean_distance(A, B))"
   ]
  },
  {
   "cell_type": "markdown",
   "metadata": {},
   "source": [
    "\n",
    "### 2. Cosine Similarity\n",
    "\n",
    "#### Definition\n",
    "Cosine similarity measures the cosine of the angle between two vectors. Unlike Euclidean distance, it focuses on the direction of the vectors rather than their magnitude, making it useful for comparing the orientation of vectors in space.\n",
    "\n",
    "#### Mathematical Formula\n",
    "For two vectors **A** and **B**, the cosine similarity is calculated as:\n",
    "\n",
    "$$\n",
    "\\text{cosine similarity}(A, B) = \\frac{A \\cdot B}{\\|A\\| \\|B\\|}\n",
    "$$\n",
    "\n",
    "Where $A \\cdot B$ is the dot product of the vectors, and $|A|$ and $|B|$ are the magnitudes (lengths) of vectors $A$ and $B$.\n",
    "\n",
    "#### When to Use It\n",
    "Cosine similarity is commonly used when you care about the direction rather than the magnitude. It’s ideal for textual data where the length of the document (or vector) may vary, but the focus is on how similar the content (direction) is. It’s widely used in NLP tasks like document similarity, sentence similarity, and information retrieval."
   ]
  },
  {
   "cell_type": "code",
   "execution_count": 8,
   "metadata": {},
   "outputs": [
    {
     "name": "stdout",
     "output_type": "stream",
     "text": [
      "0.9746318461970762\n"
     ]
    }
   ],
   "source": [
    "import math\n",
    "\n",
    "def cosine_similarity(A, B):\n",
    "    if len(A) != len(B):\n",
    "        raise ValueError(\"Vectors must be of same length.\")\n",
    "    dot_product = sum(a * b for a, b in zip(A, B))\n",
    "    magnitude_A = math.sqrt(sum(a ** 2 for a in A))\n",
    "    magnitude_B = math.sqrt(sum(b ** 2 for b in B))\n",
    "    return dot_product / (magnitude_A * magnitude_B)\n",
    "\n",
    "# Example Usage\n",
    "A = [1, 2, 3]\n",
    "B = [4, 5, 6]\n",
    "print(cosine_similarity(A, B))"
   ]
  },
  {
   "cell_type": "markdown",
   "metadata": {},
   "source": [
    "Cosine similarity will give you a value between -1 and 1, where 1 means the vectors point in the same direction (are very similar), 0 means they are orthogonal (unrelated), and -1 means they point in completely opposite directions (are very dissimilar)."
   ]
  },
  {
   "cell_type": "code",
   "execution_count": 9,
   "metadata": {},
   "outputs": [
    {
     "name": "stdout",
     "output_type": "stream",
     "text": [
      "Euclidean Distance: 221.37072977247917\n",
      "Cosine Similarity: 1.0\n"
     ]
    }
   ],
   "source": [
    "vec1 = [1, 2]\n",
    "vec2 = [100, 200]\n",
    "\n",
    "print(\"Euclidean Distance:\", euclidean_distance(vec1, vec2))\n",
    "print(\"Cosine Similarity:\", cosine_similarity(vec1, vec2))\n"
   ]
  },
  {
   "cell_type": "markdown",
   "metadata": {},
   "source": [
    "## Why Cosine Similarity Over Euclidean Distance in Vector DBs?\n",
    "\n",
    "Cosine similarity is often used over Euclidean distance in vector databases because it focuses on the **angle** between vectors, not their **magnitude**. This is useful when the direction matters more than the size. For example, in text similarity (e.g., document search), two documents might have different lengths but similar content. Cosine similarity can measure how similar the documents are based on their word usage patterns, ignoring how many words they contain.\n",
    "\n",
    "Euclidean distance, on the other hand, measures the actual distance between points in space, which can be misleading when the data points have varying magnitudes but similar structures.\n",
    "\n",
    "### Simple Python Example"
   ]
  },
  {
   "cell_type": "code",
   "execution_count": 10,
   "metadata": {},
   "outputs": [
    {
     "name": "stdout",
     "output_type": "stream",
     "text": [
      "Euclidean Distance: 140.0071426749364\n",
      "Cosine Similarity: 0.9999999999999999\n"
     ]
    }
   ],
   "source": [
    "vec1 = [1, 1]   # small magnitude, same direction\n",
    "vec2 = [100, 100]  # large magnitude, same direction\n",
    "\n",
    "euclid = euclidean_distance(vec1, vec2)\n",
    "cosine_sim = cosine_similarity(vec1, vec2)\n",
    "\n",
    "print(\"Euclidean Distance:\", euclid)\n",
    "print(\"Cosine Similarity:\", cosine_sim)"
   ]
  },
  {
   "cell_type": "markdown",
   "metadata": {},
   "source": [
    "Here, despite the large difference in magnitude, cosine similarity will be **1** (perfect similarity), while Euclidean distance will be large. Cosine similarity focuses on the **relationship**, not size."
   ]
  }
 ],
 "metadata": {
  "kernelspec": {
   "display_name": ".venv",
   "language": "python",
   "name": "python3"
  },
  "language_info": {
   "codemirror_mode": {
    "name": "ipython",
    "version": 3
   },
   "file_extension": ".py",
   "mimetype": "text/x-python",
   "name": "python",
   "nbconvert_exporter": "python",
   "pygments_lexer": "ipython3",
   "version": "3.11.1"
  }
 },
 "nbformat": 4,
 "nbformat_minor": 2
}
